{
 "cells": [
  {
   "cell_type": "markdown",
   "metadata": {
    "id": "MlL-m-7_7YTG"
   },
   "source": [
    "# Práctica 3\n",
    "## Juan José Herrera Aranda"
   ]
  },
  {
   "cell_type": "code",
   "execution_count": 1,
   "metadata": {
    "colab": {
     "base_uri": "https://localhost:8080/"
    },
    "executionInfo": {
     "elapsed": 22583,
     "status": "ok",
     "timestamp": 1640168477528,
     "user": {
      "displayName": "Juanjo herrera aranda",
      "photoUrl": "https://lh3.googleusercontent.com/a-/AOh14Ggi-1pJHDlySIFOzF9e-wXwl8SXgE7TF1tP5H8N=s64",
      "userId": "01584101861937288856"
     },
     "user_tz": -60
    },
    "id": "nQEJKlQ3bV9M",
    "outputId": "062a8c96-8621-411f-a005-54d5ee635bec"
   },
   "outputs": [
    {
     "name": "stdout",
     "output_type": "stream",
     "text": [
      "Mounted at /content/gdrive\n"
     ]
    }
   ],
   "source": [
    "from google.colab import drive\n",
    "drive.mount('/content/gdrive')"
   ]
  },
  {
   "cell_type": "code",
   "execution_count": 2,
   "metadata": {
    "colab": {
     "base_uri": "https://localhost:8080/"
    },
    "executionInfo": {
     "elapsed": 376,
     "status": "ok",
     "timestamp": 1640168482971,
     "user": {
      "displayName": "Juanjo herrera aranda",
      "photoUrl": "https://lh3.googleusercontent.com/a-/AOh14Ggi-1pJHDlySIFOzF9e-wXwl8SXgE7TF1tP5H8N=s64",
      "userId": "01584101861937288856"
     },
     "user_tz": -60
    },
    "id": "x7ZBhSsNfYGC",
    "outputId": "89f2456d-2f73-4f9c-f848-99dac3d9ec2e"
   },
   "outputs": [
    {
     "name": "stdout",
     "output_type": "stream",
     "text": [
      "/content/gdrive/.shortcut-targets-by-id/1f4_bhvRaJhUMnZZ4MeBoNGoM9eWVOzBa/Colab Notebooks\n"
     ]
    }
   ],
   "source": [
    "cd '/content/gdrive/My Drive/Colab Notebooks'"
   ]
  },
  {
   "cell_type": "code",
   "execution_count": 3,
   "metadata": {
    "colab": {
     "base_uri": "https://localhost:8080/"
    },
    "executionInfo": {
     "elapsed": 1275,
     "status": "ok",
     "timestamp": 1640168484644,
     "user": {
      "displayName": "Juanjo herrera aranda",
      "photoUrl": "https://lh3.googleusercontent.com/a-/AOh14Ggi-1pJHDlySIFOzF9e-wXwl8SXgE7TF1tP5H8N=s64",
      "userId": "01584101861937288856"
     },
     "user_tz": -60
    },
    "id": "0CS9zMZQxcA0",
    "outputId": "627daa27-6c4b-4730-e0e6-9779db49bbaf"
   },
   "outputs": [
    {
     "name": "stdout",
     "output_type": "stream",
     "text": [
      "'Copia de Ejercicio_3.ipynb'    model.png\n",
      "'Copia de Untitled0.ipynb'      test_images.npy\n",
      " Ejercicio_3.ipynb              test_labels.npy\n",
      " \u001b[0m\u001b[01;34mimages\u001b[0m/                        train_images.npy\n",
      " images.tgz                     train_labels.npy\n",
      " lists.tgz                      \u001b[01;34mtrash\u001b[0m/\n",
      "\u001b[01;34m'lists.tgz (Unzipped Files)'\u001b[0m/   Untitled0.ipynb\n",
      " model_plot.png                \u001b[01;34m'Vision por Computador'\u001b[0m/\n"
     ]
    }
   ],
   "source": [
    "ls"
   ]
  },
  {
   "cell_type": "code",
   "execution_count": 4,
   "metadata": {
    "executionInfo": {
     "elapsed": 5615,
     "status": "ok",
     "timestamp": 1640168491944,
     "user": {
      "displayName": "Juanjo herrera aranda",
      "photoUrl": "https://lh3.googleusercontent.com/a-/AOh14Ggi-1pJHDlySIFOzF9e-wXwl8SXgE7TF1tP5H8N=s64",
      "userId": "01584101861937288856"
     },
     "user_tz": -60
    },
    "id": "x7pWTRo8fYIo"
   },
   "outputs": [],
   "source": [
    "import numpy as np\n",
    "import tensorflow as tf\n",
    "import keras\n",
    "import matplotlib.pyplot as plt\n",
    "from math import ceil\n",
    "from random import shuffle,seed\n",
    "from matplotlib import pyplot\n",
    "from sklearn.model_selection import train_test_split\n",
    "from keras.utils import np_utils\n",
    "from keras.datasets import cifar100\n",
    "from keras.utils.vis_utils import plot_model\n",
    "from keras.models import Sequential\n",
    "from keras.layers import Dense, Dropout, Flatten, BatchNormalization, Conv2D, MaxPooling2D, Activation, UpSampling2D, add\n",
    "from keras import backend as K\n",
    "\n",
    "from tensorflow.keras.preprocessing.image import ImageDataGenerator\n",
    "from tensorflow.keras import activations\n",
    "\n",
    "from sklearn.model_selection import StratifiedKFold\n",
    "\n",
    "from keras.applications.resnet import ResNet50, preprocess_input\n",
    "\n",
    "from keras.preprocessing.image import load_img,img_to_array\n",
    "\n",
    "seed(123456)"
   ]
  },
  {
   "cell_type": "markdown",
   "metadata": {
    "id": "RfR5ha-F7gUa"
   },
   "source": [
    "# Funciones Auxiliares"
   ]
  },
  {
   "cell_type": "code",
   "execution_count": 5,
   "metadata": {
    "executionInfo": {
     "elapsed": 549,
     "status": "ok",
     "timestamp": 1640168492483,
     "user": {
      "displayName": "Juanjo herrera aranda",
      "photoUrl": "https://lh3.googleusercontent.com/a-/AOh14Ggi-1pJHDlySIFOzF9e-wXwl8SXgE7TF1tP5H8N=s64",
      "userId": "01584101861937288856"
     },
     "user_tz": -60
    },
    "id": "sR7E1zhBfYTa"
   },
   "outputs": [],
   "source": [
    "#########################################################################\n",
    "######## FUNCIÓN PARA CARGAR Y MODIFICAR EL CONJUNTO DE DATOS ###########\n",
    "#########################################################################\n",
    "\n",
    "# A esta función solo se la llama una vez. Devuelve 4 \n",
    "# vectores conteniendo, por este orden, las imágenes\n",
    "# de entrenamiento, las clases de las imágenes de\n",
    "# entrenamiento, las imágenes del conjunto de test y\n",
    "# las clases del conjunto de test.\n",
    "\n",
    "def cargarImagenes(visualizeFlag=False):\n",
    "    # Cargamos Cifar100. Cada imagen tiene tamaño\n",
    "    # (32 , 32, 3). Nos vamos a quedar con las\n",
    "    # imágenes de 25 de las clases.\n",
    "    (x_train, y_train), (x_test, y_test) = cifar100.load_data (label_mode ='fine')\n",
    "\n",
    "    # summarize loaded dataset\n",
    "    print('Summary original dataset: ')\n",
    "    print('Train: X=%s, y=%s' % (x_train.shape, y_train.shape))\n",
    "    print('Test: X=%s, y=%s' % (x_test.shape, y_test.shape))\n",
    "\n",
    "    x_train = x_train.astype('float32')\n",
    "    x_test = x_test.astype('float32')\n",
    "    x_train /= 255\n",
    "    x_test /= 255\n",
    "    train_idx = np.isin(y_train, np.arange(25))\n",
    "    train_idx = np.reshape (train_idx, -1)\n",
    "    x_train = x_train[train_idx]\n",
    "    y_train = y_train[train_idx]\n",
    "    test_idx = np.isin(y_test, np.arange(25))\n",
    "    test_idx = np.reshape(test_idx, -1)\n",
    "    x_test = x_test[test_idx]\n",
    "    y_test = y_test[test_idx]\n",
    "\n",
    "    # Transformamos los vectores de clases en matrices.\n",
    "    # Cada componente se convierte en un vector de ceros\n",
    "    # con un uno en la componente correspondiente a la\n",
    "    # clase a la que pertenece la imagen. Este paso es\n",
    "    # necesario para la clasificación multiclase en keras.\n",
    "    y_train = keras.utils.np_utils.to_categorical(y_train, 25)\n",
    "    y_test = keras.utils.np_utils.to_categorical(y_test, 25)\n",
    "\n",
    "    if visualizeFlag:\n",
    "      number_images_per_row = 3\n",
    "      result = np.where(y_train == 1)\n",
    "      fig = pyplot.figure()\n",
    "      for i in range(number_images_per_row*number_images_per_row):\n",
    "        # define subplot\n",
    "        label = 'Class {}'.format(result[1][i])\n",
    "        pyplot.subplot(number_images_per_row,number_images_per_row,i+1).set_title(label)\n",
    "        # plot raw pixel data\n",
    "        pyplot.imshow(x_train[i])\n",
    "      # show the figure\n",
    "      fig.set_size_inches(np.array(fig.get_size_inches()) * number_images_per_row)\n",
    "      pyplot.show()\n",
    "\n",
    "    # summarize loaded dataset\n",
    "    print('Summary reduced dataset: ')\n",
    "    print('Train: X=%s, y=%s' % (x_train.shape, y_train.shape))\n",
    "    print('Test: X=%s, y=%s' % (x_test.shape, y_test.shape))\n",
    "    \n",
    "    return x_train , y_train , x_test , y_test\n",
    "\n",
    "#########################################################################\n",
    "######## FUNCIÓN PARA MOSTRAR LA EVOLUCIÓN DEL MODELO ###################\n",
    "#########################################################################\n",
    "\n",
    "# Esta función pinta dos gráficas, una con la evolución\n",
    "# de la función de pérdida en el conjunto de train y\n",
    "# en el de validación, y otra con la evolución de la\n",
    "# accuracy en el conjunto de train y el de validación.\n",
    "# Es necesario pasarle como parámetro el historial del\n",
    "# entrenamiento del modelo (lo que devuelven las\n",
    "# funciones fit() y fit_generator()).\n",
    "def mostrarEvolucion(hist):\n",
    "    loss = hist.history['loss']\n",
    "    val_loss = hist.history['val_loss']\n",
    "    pyplot.plot(loss)\n",
    "    pyplot.plot(val_loss)\n",
    "    pyplot.legend(['Training loss', 'Validation loss'])\n",
    "    pyplot.show()\n",
    "    \n",
    "    acc = hist.history['accuracy']\n",
    "    val_acc = hist.history['val_accuracy']\n",
    "    pyplot.plot(acc)\n",
    "    pyplot.plot(val_acc)\n",
    "    pyplot.legend(['Training accuracy','Validation accuracy'])\n",
    "    pyplot.show()\n",
    "\n",
    "\n",
    "\n",
    "#########################################################################\n",
    "################## FUNCIÓN PARA LEER LAS IMÁGENES #######################\n",
    "#########################################################################\n",
    "\n",
    "# Dado un fichero train.txt o test.txt y el path donde se encuentran los\n",
    "# ficheros y las imágenes, esta función lee las imágenes\n",
    "# especificadas en ese fichero y devuelve las imágenes en un vector y \n",
    "# sus clases en otro.\n",
    "\n",
    "def leerImagenes(vec_imagenes, path):\n",
    "  clases = np.array([img.split('/')[0] for img in vec_imagenes])\n",
    "  imagenes = np.array([img_to_array(load_img(path + \"/\" + img, \n",
    "                                             target_size = (224, 224))) \n",
    "                       for img in vec_imagenes])\n",
    "  return imagenes, clases\n",
    "\n",
    "\n",
    "\n",
    "\n",
    "#########################################################################\n",
    "############# FUNCIÓN PARA CARGAR EL CONJUNTO DE DATOS ##################\n",
    "#########################################################################\n",
    "\n",
    "# Usando la función anterior, y dado el path donde se encuentran las\n",
    "# imágenes y los archivos \"train.txt\" y \"test.txt\", devuelve las \n",
    "# imágenes y las clases de train y test para usarlas con keras\n",
    "# directamente.\n",
    "\n",
    "def cargarDatos(path):\n",
    "  # Cargamos los ficheros\n",
    "  train_images = np.loadtxt(path + \"/train.txt\", dtype = str)\n",
    "  test_images = np.loadtxt(path + \"/test.txt\", dtype = str)\n",
    "  \n",
    "  # Leemos las imágenes con la función anterior\n",
    "  train, train_clases = leerImagenes(train_images,path)\n",
    "  test, test_clases = leerImagenes(test_images,path)\n",
    "  \n",
    "  # Pasamos los vectores de las clases a matrices \n",
    "  # Para ello, primero pasamos las clases a números enteros\n",
    "  clases_posibles = np.unique(np.copy(train_clases))\n",
    "  for i in range(len(clases_posibles)):\n",
    "    train_clases[train_clases == clases_posibles[i]] = i\n",
    "    test_clases[test_clases == clases_posibles[i]] = i\n",
    "\n",
    "  # Después, usamos la función to_categorical()\n",
    "  train_clases = np_utils.to_categorical(train_clases, 200)\n",
    "  test_clases = np_utils.to_categorical(test_clases, 200)\n",
    "  \n",
    "  # Barajar los datos\n",
    "  train_perm = np.random.permutation(len(train))\n",
    "  train = train[train_perm]\n",
    "  train_clases = train_clases[train_perm]\n",
    "\n",
    "  test_perm = np.random.permutation(len(test))\n",
    "  test = test[test_perm]\n",
    "  test_clases = test_clases[test_perm]\n",
    "  \n",
    "  return train, train_clases, test, test_clases\n",
    "\n",
    "\n",
    "#########################################################################\n",
    "######## FUNCIÓN PARA OBTENER EL ACCURACY DEL CONJUNTO DE TEST ##########\n",
    "#########################################################################\n",
    "\n",
    "# Esta función devuelve el accuracy de un modelo, definido como el \n",
    "# porcentaje de etiquetas bien predichas frente al total de etiquetas.\n",
    "# Como parámetros es necesario pasarle el vector de etiquetas verdaderas\n",
    "# y el vector de etiquetas predichas, en el formato de keras (matrices\n",
    "# donde cada etiqueta ocupa una fila, con un 1 en la posición de la clase\n",
    "# a la que pertenece y 0 en las demás).\n",
    "\n",
    "def calcularAccuracy(labels, preds):\n",
    "  labels = np.argmax(labels, axis = 1)\n",
    "  preds = np.argmax(preds, axis = 1)\n",
    "  \n",
    "  accuracy = sum(labels == preds)/len(labels)\n",
    "  \n",
    "  return accuracy\n",
    "\n",
    "\n",
    "#########################################################################\n",
    "############# FUNCIÓN AUXILIARES PRACTICA ANTERIORES ####################\n",
    "#########################################################################\n",
    "\n",
    "\n",
    "def normalizar_mat(im):\n",
    "  minimo = min(im.ravel())\n",
    "  maximo = max(im.ravel())\n",
    "  rango = maximo-minimo\n",
    "  return (im-minimo)/rango\n",
    "\n",
    "def pintaI(im, figsize=(5,5)):\n",
    "  im_norm = normalizar_mat(im)\n",
    "  cmap = 'gray' if len(im.shape) == 2 else None\n",
    "  plt.figure(figsize=figsize)\n",
    "  plt.axis('off')\n",
    "  plt.imshow( im_norm, cmap=cmap, vmin=0.0, vmax=1.0 )\n",
    "  plt.show(block=False)\n",
    "\n",
    "def pintaMIE(vim, titulos, ncol = 2, figsize=(12,12)):\n",
    "  fig = plt.figure(figsize=figsize)\n",
    "  #fig = plt.figure()\n",
    "  for k, im in enumerate(vim):\n",
    "    sub = fig.add_subplot( ceil(len(vim)/ncol), ncol, k + 1 )\n",
    "    plt.axis('off')\n",
    "    plt.title(titulos[k])\n",
    "    cmap = 'gray' if len(im.shape) == 2 else None\n",
    "    sub.imshow(normalizar_mat(im), cmap=cmap)\n",
    "  plt.show(block=False)"
   ]
  },
  {
   "cell_type": "markdown",
   "metadata": {
    "id": "lObjmZhi7uA_"
   },
   "source": [
    "Cargamos las imágenes y establecemos algunas variables globales necesarias"
   ]
  },
  {
   "cell_type": "code",
   "execution_count": 6,
   "metadata": {
    "colab": {
     "base_uri": "https://localhost:8080/"
    },
    "executionInfo": {
     "elapsed": 14472,
     "status": "ok",
     "timestamp": 1640168507340,
     "user": {
      "displayName": "Juanjo herrera aranda",
      "photoUrl": "https://lh3.googleusercontent.com/a-/AOh14Ggi-1pJHDlySIFOzF9e-wXwl8SXgE7TF1tP5H8N=s64",
      "userId": "01584101861937288856"
     },
     "user_tz": -60
    },
    "id": "PIObHw65iVOF",
    "outputId": "21a3c15d-9557-4143-b45b-980b4b8e3e62"
   },
   "outputs": [
    {
     "name": "stdout",
     "output_type": "stream",
     "text": [
      "Downloading data from https://www.cs.toronto.edu/~kriz/cifar-100-python.tar.gz\n",
      "169009152/169001437 [==============================] - 11s 0us/step\n",
      "169017344/169001437 [==============================] - 11s 0us/step\n",
      "Summary original dataset: \n",
      "Train: X=(50000, 32, 32, 3), y=(50000, 1)\n",
      "Test: X=(10000, 32, 32, 3), y=(10000, 1)\n",
      "Summary reduced dataset: \n",
      "Train: X=(12500, 32, 32, 3), y=(12500, 25)\n",
      "Test: X=(2500, 32, 32, 3), y=(2500, 25)\n"
     ]
    }
   ],
   "source": [
    "# TAMAÑO DE BATCH\n",
    "batch_size = 64   \n",
    "# NÚMERO DE CLASES\n",
    "num_classes = 25\n",
    "# ÉPOCAS DE ENTRENAMIENTO\n",
    "epochs = 30\n",
    "\n",
    "# DIMENSIONES DE ENTRADA DE LAS IMAGENES\n",
    "img_rows, img_cols = 32, 32\n",
    "\n",
    "x_train, y_train, x_test, y_test = cargarImagenes()\n",
    "\n",
    "if K.image_data_format() == 'channels_first': #[canales,filas,columnas]\n",
    "    x_train = x_train.reshape(x_train.shape[0], 3, img_rows, img_cols) #Tiene un canal porque son en blanco y negro\n",
    "    x_test = x_test.reshape(x_test.shape[0], 3, img_rows, img_cols)\n",
    "    input_shape = (3, img_rows, img_cols)\n",
    "else: #[filas,columnas,canales]\n",
    "    x_train = x_train.reshape(x_train.shape[0], img_rows, img_cols, 3)\n",
    "    x_test = x_test.reshape(x_test.shape[0], img_rows, img_cols, 3)\n",
    "    input_shape = (img_rows, img_cols, 3)\n",
    "\n",
    "\n",
    "\n",
    "# Como tenemos las clases ordenadas, lo que haremos será desordenarlas\n",
    "ind_train = list(range(len(x_train)))\n",
    "ind_test = list(range(len(x_test)))\n",
    "shuffle(ind_train)\n",
    "shuffle(ind_test)\n",
    "    \n",
    "x_train = x_train[ind_train]\n",
    "y_train = y_train[ind_train]\n",
    "x_test  = x_test[ind_test]\n",
    "y_test  = y_test[ind_test]\n",
    "\n",
    "v_xy_train_test = [x_train,y_train,x_test,y_test]"
   ]
  },
  {
   "cell_type": "code",
   "execution_count": null,
   "metadata": {
    "colab": {
     "base_uri": "https://localhost:8080/",
     "height": 716
    },
    "executionInfo": {
     "elapsed": 1837,
     "status": "ok",
     "timestamp": 1640012527349,
     "user": {
      "displayName": "JUAN JOSE HERRERA ARANDA",
      "photoUrl": "https://lh3.googleusercontent.com/a-/AOh14GjfPu3f_R-PAYLKslCedSB4DG2s_VJDclJFs7Jt=s64",
      "userId": "00712266723243517574"
     },
     "user_tz": -60
    },
    "id": "e4Emt5Qb4yno",
    "outputId": "07b4dd04-a82f-405d-97ac-ba1192b845f9"
   },
   "outputs": [
    {
     "data": {
      "image/png": "[encoded data removed]",
      "text/plain": [
       "<Figure size 1296x864 with 9 Axes>"
      ]
     },
     "metadata": {
      "needs_background": "light"
     },
     "output_type": "display_data"
    }
   ],
   "source": [
    "#VISUALIZAMOS ALGUNAS DE LAS IMÁGENES DEL DATASET\n",
    "number_images_per_row = 3\n",
    "result = np.where(y_train == 1)\n",
    "fig = pyplot.figure()\n",
    "for i in range(number_images_per_row*number_images_per_row):\n",
    "  label = 'Class {}'.format(result[1][i])\n",
    "  pyplot.subplot(number_images_per_row,number_images_per_row,i+1).set_title(label)\n",
    "  pyplot.imshow(x_train[i].squeeze(), cmap='gray',vmin=0,vmax=1)\n",
    "\n",
    "fig.set_size_inches(np.array(fig.get_size_inches()) * number_images_per_row)\n",
    "pyplot.show()"
   ]
  },
  {
   "cell_type": "markdown",
   "metadata": {
    "id": "xUxrjMT2EwXh"
   },
   "source": [
    "# Ejercicio 1"
   ]
  },
  {
   "cell_type": "markdown",
   "metadata": {
    "id": "DPjUrEudE0CA"
   },
   "source": [
    "Declaramos el modelo de BaseNet"
   ]
  },
  {
   "cell_type": "code",
   "execution_count": null,
   "metadata": {
    "id": "YXdbMqZqiVQh"
   },
   "outputs": [],
   "source": [
    "def BaseNet():\n",
    "  model = Sequential()\n",
    "  model.add(Conv2D(filters=6,kernel_size=(5,5),activation='relu',input_shape=input_shape,name='Conv2D_1'))\n",
    "  model.add(MaxPooling2D(pool_size=(2,2),name='MaxPooling_1'))\n",
    "  model.add(Conv2D(filters=16,kernel_size=(5,5),activation='relu',name='Conv2D_2'))\n",
    "  model.add(MaxPooling2D(pool_size=(2,2),name='MaxPooling_2'))\n",
    "  model.add(Flatten(name='Flatten'))\n",
    "  model.add(Dense(units=50,activation='relu',name='Dense_1'))\n",
    "  model.add(Dense(units=25,activation='softmax',name='Dense_2'))\n",
    "\n",
    "  return model\n"
   ]
  },
  {
   "cell_type": "markdown",
   "metadata": {
    "id": "wWrfrE8nE_jJ"
   },
   "source": [
    "Definimos la función para entrenar y evaluar al modelo con los dataset que se le pasen por parámetro y una función para hacer el procedimiento experimental cross-validation."
   ]
  },
  {
   "cell_type": "code",
   "execution_count": null,
   "metadata": {
    "id": "k50Z0hsZtAMz"
   },
   "outputs": [],
   "source": [
    "def fit_evaluate(model,opt,batch_size,epochs,v_xy_train_test,verbose=0,show = False,validation_split=None):\n",
    "  \"\"\"\n",
    "  Función que entrena al modelo pasado como parámetro y lo evalua\n",
    "  \"\"\"\n",
    "\n",
    "  x_train = v_xy_train_test[0]\n",
    "  y_train = v_xy_train_test[1]\n",
    "  x_test  = v_xy_train_test[2]\n",
    "  y_test  = v_xy_train_test[3]\n",
    "\n",
    "  # Configuramos el modelo con la funcion de perdida, optimizador y metrica\n",
    "  model.compile(loss=keras.losses.categorical_crossentropy,\n",
    "                optimizer=opt,\n",
    "                metrics=['accuracy'])\n",
    "  \n",
    "  # Entrenamos al modelo\n",
    "  hist = model.fit(x_train, y_train,\n",
    "        batch_size=batch_size,\n",
    "        epochs=epochs,\n",
    "        verbose=verbose,\n",
    "        validation_split=validation_split)\n",
    "\n",
    "  # Evaluamos el modelo\n",
    "  score = model.evaluate(x_test, y_test, verbose=verbose)\n",
    "\n",
    "  if show == True:\n",
    "    mostrarEvolucion(hist)\n",
    "\n",
    "  return score\n",
    "\n",
    "\n",
    "def cross_val(model,opt,batch_size,epochs,v_xy_train_test,show=False,validation_split=None,verbose=0):\n",
    "  \"\"\"\n",
    "  Función que dado un modelo y algunos parámetros realiza un cross validation y devuelve la media de la precisión\n",
    "  \"\"\"\n",
    "  # Totamos los ejemplos de entrenamiento, no tocamos los de test\n",
    "  x_train = v_xy_train_test[0]\n",
    "  y_train = v_xy_train_test[1]\n",
    "\n",
    "  \n",
    "  weights       = model.get_weights()    # Guardamos los pesos    \n",
    "  mean          = 0                      # Media \n",
    "\n",
    "  # Inicializamos stratified-cross-validation\n",
    "  skf = StratifiedKFold(n_splits = 5, shuffle = False) \n",
    "  \n",
    "  # Para cada fold\n",
    "  for train_index, test_index in skf.split(x_train,y_train.argmax(1)):\n",
    "\n",
    "    # Calculo los conjuntos de entrenamiento y validacion\n",
    "    X_train_cross, X_test_cross = x_train[train_index], x_train[test_index]\n",
    "    Y_train_cross, y_test_cross = y_train[train_index], y_train[test_index]\n",
    "\n",
    "    # Entrenamos y evaluamos el modelo con los datos de entrenamiento y validación\n",
    "    v_skf = [X_train_cross,Y_train_cross,X_test_cross,y_test_cross]\n",
    "    score = fit_evaluate(model,opt,batch_size,epochs,v_skf,show=show,verbose=verbose,validation_split=validation_split)\n",
    "\n",
    "    # Acumulamos la accuracy\n",
    "    mean = mean + score[1]\n",
    "\n",
    "    # Reestablecemos los pesos para la siguiente partición\n",
    "    model.set_weights(weights)\n",
    "  # Hacemos la media (hemos usado 5 particiones)\n",
    "  mean = mean/5\n",
    "\n",
    "  return mean  "
   ]
  },
  {
   "cell_type": "markdown",
   "metadata": {
    "id": "miEfglLBFRuM"
   },
   "source": [
    "Realizamos un procedimiento experimental para probar cual de todos los optimizadores es el que mejor va. Recomendamos no ejecutar la celda siguiente a la de abajo."
   ]
  },
  {
   "cell_type": "code",
   "execution_count": null,
   "metadata": {
    "id": "qKsf5TG6iVVD"
   },
   "outputs": [],
   "source": [
    "def probar_optimizers(batch_size,epochs,v_xy_train_test,show=False,verbose=0):\n",
    "  \"\"\"\n",
    "  Función para probar el optimizador, realiza con cada optimizador un total de 5 ejecuciones usando en cada una cross validation\n",
    "  Devuelve cual ha sido el mejor optimizador, la mejor precisión y un vector con todas las precisiones de todas las ejecuciones\n",
    "  \"\"\"\n",
    "  # Creamos vector de optimizadores\n",
    "  optimizadores = [tf.keras.optimizers.Adadelta(),\n",
    "                   tf.keras.optimizers.SGD(),\n",
    "                   tf.keras.optimizers.Nadam(),\n",
    "                   tf.keras.optimizers.Adam(),\n",
    "                   tf.keras.optimizers.RMSprop(),\n",
    "                   tf.keras.optimizers.Adagrad(),\n",
    "                   tf.keras.optimizers.Adamax(),\n",
    "                   tf.keras.optimizers.Ftrl()]\n",
    "\n",
    "  accuracy      = []                           # Vector con el rendimiento de todas las ejecuciones\n",
    "  best_accuracy = -1                           # Accuracy más alto\n",
    "  best_opt      = None                         # Mejor optimizador\n",
    "  mean_accuracy = np.zeros(len(optimizadores)) # Vector de medias, contiene la media de las 5 ejecuciones de cada optimizador\n",
    "\n",
    "  # Cada optimizador\n",
    "  for i,opt in enumerate(optimizadores):\n",
    "    print(\"Optimizador: \", opt)\n",
    "    # Lo probamos 5 veces\n",
    "    for j in range(5):\n",
    "      \n",
    "      # Entrenamos y evaluamos el modelo usando validación cruzada con muestreo estratificado\n",
    "      model = BaseNet()\n",
    "      acc = cross_val(model,opt,batch_size,epochs,v_xy_train_test,show=show,verbose=verbose)\n",
    "\n",
    "      # Guardmos el accuracy obtenido del cross-validation en el vector para calcular la media y en el que contiene todas las accuracy\n",
    "      mean_accuracy[i] = mean_accuracy[i] + acc\n",
    "      accuracy.append(acc)\n",
    "\n",
    "    #Calculamos la media \n",
    "    mean_accuracy[i] = mean_accuracy[i]/5\n",
    "\n",
    "    # Comprobramos si el optimizador actual es el mejor hasta el momento\n",
    "    if best_accuracy < mean_accuracy[i]:\n",
    "      best_accuracy = mean_accuracy[i]\n",
    "      best_opt = opt\n",
    "\n",
    "  # Devolvemos el mejor optimizador y el vector con todos los accuracies\n",
    "  return best_opt, best_accuracy, accuracy, mean_accuracy"
   ]
  },
  {
   "cell_type": "markdown",
   "metadata": {
    "id": "9o6_CctEFxFA"
   },
   "source": [
    "Pablo, no ejecutes la celda de abajo. Tarda mucho tiempo"
   ]
  },
  {
   "cell_type": "code",
   "execution_count": null,
   "metadata": {
    "colab": {
     "base_uri": "https://localhost:8080/"
    },
    "executionInfo": {
     "elapsed": 6637907,
     "status": "ok",
     "timestamp": 1639828951645,
     "user": {
      "displayName": "Juanjo herrera aranda",
      "photoUrl": "https://lh3.googleusercontent.com/a-/AOh14Ggi-1pJHDlySIFOzF9e-wXwl8SXgE7TF1tP5H8N=s64",
      "userId": "01584101861937288856"
     },
     "user_tz": -60
    },
    "id": "8Pl6ETiOiVXS",
    "outputId": "69542ae6-bfa4-453e-a577-c6189e2656c4"
   },
   "outputs": [
    {
     "name": "stdout",
     "output_type": "stream",
     "text": [
      "Optimizador:  <keras.optimizer_v2.adadelta.Adadelta object at 0x7efff91d0610>\n",
      "Optimizador:  <keras.optimizer_v2.gradient_descent.SGD object at 0x7efffb508410>\n",
      "Optimizador:  <keras.optimizer_v2.nadam.Nadam object at 0x7efff915d310>\n",
      "Optimizador:  <keras.optimizer_v2.adam.Adam object at 0x7efff915db90>\n",
      "Optimizador:  <keras.optimizer_v2.rmsprop.RMSprop object at 0x7efff915d4d0>\n",
      "Optimizador:  <keras.optimizer_v2.adagrad.Adagrad object at 0x7efff915d410>\n",
      "Optimizador:  <keras.optimizer_v2.adamax.Adamax object at 0x7efff915d190>\n",
      "Optimizador:  <keras.optimizer_v2.ftrl.Ftrl object at 0x7efff915dd90>\n"
     ]
    }
   ],
   "source": [
    "# Vemos que optimizador es el mejor\n",
    "best_opt, best_acc, v_acc, mean_acc = probar_optimizers(batch_size,epochs,v_xy_train_test,verbose=0,show=False)"
   ]
  },
  {
   "cell_type": "code",
   "execution_count": null,
   "metadata": {
    "colab": {
     "base_uri": "https://localhost:8080/"
    },
    "executionInfo": {
     "elapsed": 2,
     "status": "ok",
     "timestamp": 1639828951909,
     "user": {
      "displayName": "Juanjo herrera aranda",
      "photoUrl": "https://lh3.googleusercontent.com/a-/AOh14Ggi-1pJHDlySIFOzF9e-wXwl8SXgE7TF1tP5H8N=s64",
      "userId": "01584101861937288856"
     },
     "user_tz": -60
    },
    "id": "goqWyROl5Dd-",
    "outputId": "7e7ce13f-f83f-4c5c-ccff-072689530011"
   },
   "outputs": [
    {
     "name": "stdout",
     "output_type": "stream",
     "text": [
      "Mejor optimizador:  <keras.optimizer_v2.nadam.Nadam object at 0x7efff915d310>\n",
      "Mejor accuracy:  0.4423199999332429\n",
      "Vecctor de accuracy:  [0.04880000054836273, 0.04456000030040741, 0.04200000017881393, 0.04743999913334847, 0.06943999975919724, 0.3064799904823303, 0.3454399943351746, 0.3367200016975403, 0.33696000576019286, 0.3441600024700165, 0.44711999893188475, 0.432559996843338, 0.44416000247001647, 0.4495999991893768, 0.4381600022315979, 0.4385600030422211, 0.4439199984073639, 0.42864000201225283, 0.4420000076293945, 0.4389600038528442, 0.43592000007629395, 0.42576000690460203, 0.41000000238418577, 0.4323199987411499, 0.4301599979400635, 0.07175999954342842, 0.09103999882936478, 0.10768000036478043, 0.10527999997138977, 0.0843999981880188, 0.3993600010871887, 0.3912000060081482, 0.3953599989414215, 0.4083200037479401, 0.384960001707077, 0.03999999910593033, 0.03999999910593033, 0.03999999910593033, 0.03999999910593033, 0.03999999910593033]\n",
      "Vector de medias:  [0.050448 0.333952 0.44232  0.438416 0.426832 0.092032 0.39584  0.04    ]\n"
     ]
    }
   ],
   "source": [
    "print(\"Mejor optimizador: \" ,best_opt)\n",
    "print(\"Mejor accuracy: \", best_acc)\n",
    "print(\"Vecctor de accuracy: \", v_acc)\n",
    "print(\"Vector de medias: \",mean_acc)"
   ]
  },
  {
   "cell_type": "code",
   "execution_count": null,
   "metadata": {
    "colab": {
     "base_uri": "https://localhost:8080/",
     "height": 516
    },
    "executionInfo": {
     "elapsed": 43747,
     "status": "ok",
     "timestamp": 1640020048399,
     "user": {
      "displayName": "JUAN JOSE HERRERA ARANDA",
      "photoUrl": "https://lh3.googleusercontent.com/a-/AOh14GjfPu3f_R-PAYLKslCedSB4DG2s_VJDclJFs7Jt=s64",
      "userId": "00712266723243517574"
     },
     "user_tz": -60
    },
    "id": "kYAhSXr_Cng9",
    "outputId": "4e22bac3-2287-43db-f530-45d3079cd754"
   },
   "outputs": [
    {
     "data": {
      "image/png": "[encoded data removed]",
      "text/plain": [
       "<Figure size 432x288 with 1 Axes>"
      ]
     },
     "metadata": {
      "needs_background": "light"
     },
     "output_type": "display_data"
    },
    {
     "data": {
      "image/png": "[encoded data removed]",
      "text/plain": [
       "<Figure size 432x288 with 1 Axes>"
      ]
     },
     "metadata": {
      "needs_background": "light"
     },
     "output_type": "display_data"
    }
   ],
   "source": [
    "# En vista de los experimentos seleccionamos como optimizador el el método Nadam\n",
    "opt = tf.keras.optimizers.Nadam()\n",
    "# Creamos el modelo \n",
    "model = BaseNet()\n",
    "# Entrenamos y evaluamos el modelo \n",
    "score = fit_evaluate(model,opt,batch_size,epochs,v_xy_train_test,show=True,validation_split=0.1)"
   ]
  },
  {
   "cell_type": "code",
   "execution_count": null,
   "metadata": {
    "colab": {
     "base_uri": "https://localhost:8080/"
    },
    "executionInfo": {
     "elapsed": 355,
     "status": "ok",
     "timestamp": 1640020048750,
     "user": {
      "displayName": "JUAN JOSE HERRERA ARANDA",
      "photoUrl": "https://lh3.googleusercontent.com/a-/AOh14GjfPu3f_R-PAYLKslCedSB4DG2s_VJDclJFs7Jt=s64",
      "userId": "00712266723243517574"
     },
     "user_tz": -60
    },
    "id": "aqcYtPdF5L8d",
    "outputId": "d625666e-b436-46fa-98c5-aedbdbdf14ae"
   },
   "outputs": [
    {
     "name": "stdout",
     "output_type": "stream",
     "text": [
      "Accuracy BaseNet:  0.46880000829696655\n",
      "Loss BaseNet:      1.9520515203475952\n"
     ]
    }
   ],
   "source": [
    "print(\"Accuracy BaseNet: \", score[1])\n",
    "print(\"Loss BaseNet:     \", score[0])"
   ]
  },
  {
   "cell_type": "markdown",
   "metadata": {
    "id": "oaEMfIsE__Il"
   },
   "source": [
    "# Ejercicio 2: Mejora del modelo anterior"
   ]
  },
  {
   "cell_type": "markdown",
   "metadata": {
    "id": "m-SFrVmpIwvU"
   },
   "source": [
    "Creamos las funciones clave para el ejercicio."
   ]
  },
  {
   "cell_type": "code",
   "execution_count": 7,
   "metadata": {
    "executionInfo": {
     "elapsed": 352,
     "status": "ok",
     "timestamp": 1640168507690,
     "user": {
      "displayName": "Juanjo herrera aranda",
      "photoUrl": "https://lh3.googleusercontent.com/a-/AOh14Ggi-1pJHDlySIFOzF9e-wXwl8SXgE7TF1tP5H8N=s64",
      "userId": "01584101861937288856"
     },
     "user_tz": -60
    },
    "id": "ygQNvcInIlbs"
   },
   "outputs": [],
   "source": [
    "def get_sets(v_xy_train_test):\n",
    "  x_train = v_xy_train_test[0]\n",
    "  y_train = v_xy_train_test[1]\n",
    "  x_test  = v_xy_train_test[2]\n",
    "  y_test  = v_xy_train_test[3]\n",
    "\n",
    "  return x_train, y_train, x_test, y_test\n",
    "\n",
    "def normalize( v_xy_train_test):\n",
    "  \n",
    "  # Obtenemos conjuntos de datos\n",
    "  x_train, y_train, x_test, y_test = get_sets(v_xy_train_test)\n",
    "\n",
    "  # Instanciamos el ImageDataGenerator con media 0 y desviacion estandar uno\n",
    "  datagen = ImageDataGenerator(featurewise_center=True,featurewise_std_normalization=True)\n",
    "  # Entrenamos al generador con el conjunto de datos de entrenamiento\n",
    "  datagen.fit(x_train)\n",
    "  # Normalizamos el conjunto de entrenamiento y el de test\n",
    "  train_iterator = datagen.flow(x_train,y_train,batch_size=batch_size)\n",
    "  test_iterator  = datagen.flow(x_test,y_test,batch_size=8)\n",
    "\n",
    "  return train_iterator, test_iterator\n",
    "\n",
    "###########################################################################################\n",
    "###########################################################################################\n",
    "\n",
    "def fit_au_datos(model, v_xy_train_test, batch_size, epochs, verbose = 0, show = False):\n",
    "  \"\"\"\n",
    "    @brief:\n",
    "      Función que realiza:\n",
    "        1) Normalizado de datos de entrenamiento y test\n",
    "        2) Aumentado de datos en el entrenamiento\n",
    "        3) Entrenamiento del modelo\n",
    "    @Return: \n",
    "      1) Modelo entrenado\n",
    "      2) Iterador con los datos de test normalizados\n",
    "      3) histórico \n",
    "  \"\"\"\n",
    "  # Cogemos datos de entrenamiento\n",
    "  x_train_total = v_xy_train_test[0]\n",
    "  y_train_total = v_xy_train_test[1]\n",
    "\n",
    "  # Tomamos los datos de TEST (SOLO PARA NORMALIZARLOS)\n",
    "  x_test = v_xy_train_test[2]\n",
    "  y_test = v_xy_train_test[3]\n",
    "\n",
    "  # Hacemos la particion de entrenamiento y validacion\n",
    "  x_train, x_val, y_train, y_val = train_test_split(x_train_total , y_train_total , test_size=0.1)\n",
    "\n",
    "  # Normalizamos VALIDACION con media 0 y desviación estandar 1\n",
    "  datagen = ImageDataGenerator(featurewise_center=True,featurewise_std_normalization=True)\n",
    "\n",
    "  # Aumentamos datos y normalizamos el entrenamiento\n",
    "  datagen_au = ImageDataGenerator(\n",
    "      featurewise_center=True,\n",
    "      featurewise_std_normalization=True,\n",
    "      zoom_range = 0.2,\n",
    "      horizontal_flip=True)\n",
    "      #rotation_range = 30)\n",
    "  \n",
    "  # Entrenamos con el conjunto de entrenamiento\n",
    "  datagen.fit(x_train)\n",
    "  datagen_au.fit(x_train)\n",
    "\n",
    "  train_iterator = datagen_au.flow(x_train,y_train,batch_size=batch_size)\n",
    "  val_iterator  = datagen.flow(x_val,y_val,batch_size=8)\n",
    "  test_iterator = datagen.flow(x_test,y_test,batch_size=8)\n",
    "\n",
    "  # Entrenamos al modelo\n",
    "  hist = model.fit(\n",
    "        train_iterator,\n",
    "        steps_per_epoch=len(x_train)*0.9/batch_size,\n",
    "        validation_data = val_iterator,\n",
    "        batch_size = batch_size,\n",
    "        validation_steps=len(x_train)*0.1/batch_size,\n",
    "        epochs = epochs,\n",
    "        callbacks = [keras.callbacks.EarlyStopping(monitor='val_loss', patience=4, restore_best_weights=True)],\n",
    "        verbose = verbose\n",
    "  )\n",
    "\n",
    "  # Visualizamos si queremos\n",
    "  if show:\n",
    "    mostrarEvolucion(hist)\n",
    "\n",
    "\n",
    "\n",
    "  return model,test_iterator, hist\n",
    "\n",
    "\n",
    "###########################################################################################\n",
    "###########################################################################################\n",
    "\n",
    "def cross_val(model,batch_size,epochs,v_train,show=False,verbose=0):\n",
    "  \"\"\"\n",
    "    @brief: \n",
    "      Se realiza cross validation sobre el modelo \n",
    "    @Params:\n",
    "      -) v_train: Datos de entrenamiento para CV --> [x_train, y_train]\n",
    "    @Return:\n",
    "      -) Devuelve la media del acurracy y loss function del CV\n",
    "  \"\"\"\n",
    "\n",
    "  # Configuramos el modelo\n",
    "  model.compile(loss=keras.losses.categorical_crossentropy,\n",
    "                optimizer=tf.keras.optimizers.Nadam(),\n",
    "                metrics=['accuracy'])\n",
    "\n",
    "  # Totamos los datos de entrenamiento con su etiqueta\n",
    "  x_train = v_train[0]\n",
    "  y_train = v_train[1]\n",
    "\n",
    "  \n",
    "  weights       = model.get_weights()    # Guardamos los pesos    \n",
    "  mean          = 0                      # Media de accuracy\n",
    "  loss          = 0                      # Media de loss funtion\n",
    "  \n",
    "  # Inicializamos stratified-cross-validation\n",
    "  skf = StratifiedKFold(n_splits = 5, shuffle = False) \n",
    "  \n",
    "  # Para cada fold\n",
    "  for train_index, test_index in skf.split(x_train,y_train.argmax(1)):\n",
    "\n",
    "    # Calculo los conjuntos de entrenamiento y validacion\n",
    "    X_train_cross, X_test_cross = x_train[train_index], x_train[test_index]\n",
    "    Y_train_cross, Y_test_cross = y_train[train_index], y_train[test_index]\n",
    "\n",
    "    # Entrenamos y evaluamos el modelo con los datos de entrenamiento y validación\n",
    "    v_skf = [X_train_cross,Y_train_cross,X_test_cross,Y_test_cross]\n",
    "    model, test_iterator ,historico = fit_au_datos(model,v_skf,batch_size,epochs,show=show,verbose=verbose)\n",
    "    score = model.evaluate(test_iterator, verbose=verbose)\n",
    "    \n",
    "    # Acumulamos la accuracy y loss funtion\n",
    "    mean = mean + score[1]\n",
    "    loss = loss + score[0]\n",
    "\n",
    "    # Reestablecemos los pesos para la siguiente partición\n",
    "    model.set_weights(weights)\n",
    "\n",
    "  # Hacemos la media (hemos usado 5 particiones)\n",
    "  mean = mean/5\n",
    "  loss = loss/5\n",
    "\n",
    "  return [mean,loss]\n",
    "\n",
    "\n",
    "###########################################################################################\n",
    "###########################################################################################\n",
    "\n",
    "def fit_evaluate( model,opt,batch_size,epochs,v_xy_train_test ,show=False,verbose=0):\n",
    "  \"\"\"\n",
    "  @brief:\n",
    "    Función que entrena al modelo y realiza una evaluación\n",
    "  @Param:\n",
    "    v_xy_train_test = [x_train,y_train,x_test,y_test]\n",
    "  @Return:\n",
    "    Score\n",
    "  \"\"\"\n",
    "\n",
    "  # Configuramos el modelo\n",
    "  model.compile(loss=keras.losses.categorical_crossentropy,\n",
    "                optimizer=opt,\n",
    "                metrics=['accuracy'])\n",
    "  \n",
    "  # Entrenamos al modelo\n",
    "  model,test_iterator, hist = fit_au_datos(model, v_xy_train_test, batch_size, epochs, verbose = verbose, show = True)\n",
    "    \n",
    "  # Evaluamos el modelo\n",
    "  score = model.evaluate(test_iterator, verbose=verbose)\n",
    "\n",
    "  return score\n"
   ]
  },
  {
   "cell_type": "markdown",
   "metadata": {
    "id": "u9xNc6qbJLL-"
   },
   "source": [
    "## Versión 1"
   ]
  },
  {
   "cell_type": "markdown",
   "metadata": {
    "id": "dsKTwc4pGPFk"
   },
   "source": [
    "Creamos los modelos"
   ]
  },
  {
   "cell_type": "code",
   "execution_count": 8,
   "metadata": {
    "executionInfo": {
     "elapsed": 344,
     "status": "ok",
     "timestamp": 1640168539512,
     "user": {
      "displayName": "Juanjo herrera aranda",
      "photoUrl": "https://lh3.googleusercontent.com/a-/AOh14Ggi-1pJHDlySIFOzF9e-wXwl8SXgE7TF1tP5H8N=s64",
      "userId": "01584101861937288856"
     },
     "user_tz": -60
    },
    "id": "mLqkc9zGRzAS"
   },
   "outputs": [],
   "source": [
    "def BaseNet_v1_1():\n",
    "\n",
    "  model = Sequential()\n",
    "\n",
    "  model.add(Conv2D(filters=16,kernel_size=(3,3),input_shape=input_shape,name='Conv2D_11'))\n",
    "  model.add(Conv2D(filters=16,kernel_size=(3,3),name='Conv2D_12'))\n",
    "  model.add(BatchNormalization())\n",
    "  model.add(Activation(keras.activations.relu, name='Activation_1'))\n",
    "\n",
    "  model.add(MaxPooling2D(pool_size=(2,2),name='MaxPooling_1'))\n",
    "  \n",
    "  model.add(Conv2D(filters=32,kernel_size=(3,3),name='Conv2D_2'))\n",
    "  model.add(BatchNormalization())\n",
    "  model.add(Activation(keras.activations.relu, name='Activation_2'))\n",
    "\n",
    "  model.add(MaxPooling2D(pool_size=(2,2),name='MaxPooling_2'))\n",
    "\n",
    "  model.add(Flatten(name='Flatten'))\n",
    "\n",
    "  model.add(Dropout(0.4, name='Dropout_1'))\n",
    "  model.add(Dense(units=50,name='Dense_1'))\n",
    "  model.add(BatchNormalization())\n",
    "  model.add(Activation(keras.activations.relu, name='Activation_3'))\n",
    "  \n",
    "  model.add(Dropout(0.4, name='Dropout_2'))\n",
    "  model.add(Dense(units=25,activation='softmax',name='Dense_2'))\n",
    "\n",
    "  return model\n",
    "\n",
    "\n",
    "#############################################################################################\n",
    "#############################################################################################\n",
    "#############################################################################################\n",
    "\n",
    "def BaseNet_v1_2():\n",
    "\n",
    "  model = Sequential()\n",
    "\n",
    "  model.add(Conv2D(filters=32,kernel_size=(3,3),input_shape=input_shape,name='Conv2D_11'))\n",
    "  model.add(Conv2D(filters=32,kernel_size=(3,3),name='Conv2D_12'))\n",
    "  model.add(BatchNormalization())\n",
    "  model.add(Activation(keras.activations.relu, name='Activation_1'))\n",
    "\n",
    "  model.add(MaxPooling2D(pool_size=(2,2),name='MaxPooling_1'))\n",
    "  \n",
    "  model.add(Conv2D(filters=64,kernel_size=(3,3),name='Conv2D_2'))\n",
    "  model.add(BatchNormalization())\n",
    "  model.add(Activation(keras.activations.relu, name='Activation_2'))\n",
    "\n",
    "  model.add(MaxPooling2D(pool_size=(2,2),name='MaxPooling_2'))\n",
    "\n",
    "  model.add(Flatten(name='Flatten'))\n",
    "\n",
    "  model.add(Dropout(0.4, name='Dropout_1'))\n",
    "  model.add(Dense(units=25,activation='softmax',name='Dense_2'))\n",
    "\n",
    "  return model"
   ]
  },
  {
   "cell_type": "markdown",
   "metadata": {
    "id": "Bbp0c8b9JQx6"
   },
   "source": [
    "Experimentamos con el modelo haciendo con la técnica de validación cruzada."
   ]
  },
  {
   "cell_type": "code",
   "execution_count": 9,
   "metadata": {
    "colab": {
     "base_uri": "https://localhost:8080/"
    },
    "executionInfo": {
     "elapsed": 421666,
     "status": "ok",
     "timestamp": 1640168967434,
     "user": {
      "displayName": "Juanjo herrera aranda",
      "photoUrl": "https://lh3.googleusercontent.com/a-/AOh14Ggi-1pJHDlySIFOzF9e-wXwl8SXgE7TF1tP5H8N=s64",
      "userId": "01584101861937288856"
     },
     "user_tz": -60
    },
    "id": "sbPhEB-IX4js",
    "outputId": "0e96f497-57b1-4605-d1f6-1cab33f12925"
   },
   "outputs": [
    {
     "name": "stdout",
     "output_type": "stream",
     "text": [
      "Loss:  1.7606566190719604\n",
      "Accuracy:  0.4863199949264526\n"
     ]
    }
   ],
   "source": [
    "# Version 1\n",
    "model_1_1 = BaseNet_v1_1()\n",
    "score = cross_val(model_1_1,batch_size,epochs,v_xy_train_test,show=False,verbose=0)\n",
    "print(\"Loss: \", score[1])\n",
    "print(\"Accuracy: \", score[0])"
   ]
  },
  {
   "cell_type": "code",
   "execution_count": 10,
   "metadata": {
    "colab": {
     "base_uri": "https://localhost:8080/"
    },
    "executionInfo": {
     "elapsed": 308830,
     "status": "ok",
     "timestamp": 1640169276261,
     "user": {
      "displayName": "Juanjo herrera aranda",
      "photoUrl": "https://lh3.googleusercontent.com/a-/AOh14Ggi-1pJHDlySIFOzF9e-wXwl8SXgE7TF1tP5H8N=s64",
      "userId": "01584101861937288856"
     },
     "user_tz": -60
    },
    "id": "Vt8S4FgvuLll",
    "outputId": "e3a90a6b-9b1f-4ce2-a18f-db185bad110b"
   },
   "outputs": [
    {
     "name": "stdout",
     "output_type": "stream",
     "text": [
      "Loss:  1.6825984954833983\n",
      "Accuracy:  0.5060800015926361\n"
     ]
    }
   ],
   "source": [
    "# Versión 2\n",
    "model_1_2 = BaseNet_v1_2()\n",
    "score = cross_val(model_1_2,batch_size,epochs,v_xy_train_test,show=False,verbose=0)\n",
    "print(\"Loss: \", score[1])\n",
    "print(\"Accuracy: \", score[0])"
   ]
  },
  {
   "cell_type": "markdown",
   "metadata": {
    "id": "orHHavXxK3DL"
   },
   "source": [
    "## Versión 2"
   ]
  },
  {
   "cell_type": "markdown",
   "metadata": {
    "id": "b9U8q4P-Ju3f"
   },
   "source": [
    "Creamos los nuevos modelos"
   ]
  },
  {
   "cell_type": "code",
   "execution_count": 13,
   "metadata": {
    "executionInfo": {
     "elapsed": 371,
     "status": "ok",
     "timestamp": 1640169650793,
     "user": {
      "displayName": "Juanjo herrera aranda",
      "photoUrl": "https://lh3.googleusercontent.com/a-/AOh14Ggi-1pJHDlySIFOzF9e-wXwl8SXgE7TF1tP5H8N=s64",
      "userId": "01584101861937288856"
     },
     "user_tz": -60
    },
    "id": "8xgQx_NTK2PD"
   },
   "outputs": [],
   "source": [
    "def BaseNet_v2():\n",
    "\n",
    "  model = Sequential()\n",
    "\n",
    "  canales = [32,64]\n",
    "  for i in range(2): \n",
    "    model.add(Conv2D(filters=canales[i],kernel_size=(3,3),padding=\"same\",input_shape=input_shape, name='Conv2D_{}'.format(i+1)))\n",
    "    model.add(BatchNormalization())\n",
    "    model.add(Activation(keras.activations.relu, name='Activation_{}'.format(i+1)))\n",
    "\n",
    "  model.add(MaxPooling2D(pool_size=(2,2),name='MaxPooling_1'))\n",
    "\n",
    "  model.add(UpSampling2D(interpolation='bilinear'))\n",
    "\n",
    "  model.add(Conv2D(filters=128,kernel_size=(3,3),padding=\"same\",strides=(2,2), name='Conv2D_3'))\n",
    "  model.add(BatchNormalization())\n",
    "  model.add(Activation(keras.activations.relu, name='Activation_3'))\n",
    "\n",
    "  canales = [128,256]\n",
    "  for i in range(2): \n",
    "    model.add(Conv2D(filters=canales[i],kernel_size=(3,3),padding=\"same\",name='Conv2D_{}'.format(i+4)))\n",
    "    model.add(BatchNormalization())\n",
    "    model.add(Activation(keras.activations.relu, name='Activation_{}'.format(i+4)))\n",
    "\n",
    "  model.add(MaxPooling2D(pool_size=(2,2),name='MaxPooling_2'))\n",
    "\n",
    "  model.add(Flatten(name='Flatten'))\n",
    "  model.add(Dropout(0.4, name='Dropout_1'))\n",
    "  model.add(Dense(units=25,activation='softmax',name='Classifier'))\n",
    " \n",
    "  return model\n",
    "\n",
    "\n",
    "#############################################################################################\n",
    "#############################################################################################\n",
    "#############################################################################################\n",
    "\n",
    "def BaseNet_v2_2():\n",
    "\n",
    "  model = Sequential()\n",
    "\n",
    "  canales = [128,256]\n",
    "  for i in range(2): \n",
    "    model.add(Conv2D(filters=canales[i],kernel_size=(3,3),padding=\"same\",input_shape=input_shape, name='Conv2D_{}'.format(i+1)))\n",
    "    model.add(BatchNormalization())\n",
    "    model.add(Activation(keras.activations.relu, name='Activation_{}'.format(i+1)))\n",
    "\n",
    "  model.add(MaxPooling2D(pool_size=(2,2),name='MaxPooling_1'))\n",
    "\n",
    "  model.add(UpSampling2D(interpolation='bilinear'))\n",
    "\n",
    "  model.add(Conv2D(filters=128,kernel_size=(3,3),padding=\"same\",strides=(2,2), name='Conv2D_3'))\n",
    "  model.add(BatchNormalization())\n",
    "  model.add(Activation(keras.activations.relu, name='Activation_3'))\n",
    "\n",
    "  canales = [256,512]\n",
    "  for i in range(2): \n",
    "    model.add(Conv2D(filters=canales[i],kernel_size=(3,3),padding=\"same\",name='Conv2D_{}'.format(i+4)))\n",
    "    model.add(BatchNormalization())\n",
    "    model.add(Activation(keras.activations.relu, name='Activation_{}'.format(i+4)))\n",
    "\n",
    "  model.add(MaxPooling2D(pool_size=(2,2),name='MaxPooling_2'))\n",
    "\n",
    "  model.add(Flatten(name='Flatten'))\n",
    "  model.add(Dropout(0.4, name='Dropout_1'))\n",
    "  model.add(Dense(units=25,activation='softmax',name='Classifier'))\n",
    " \n",
    "  return model"
   ]
  },
  {
   "cell_type": "markdown",
   "metadata": {
    "id": "sK8Ut51cJ3HW"
   },
   "source": [
    "Ejecutamos las distintas versiones"
   ]
  },
  {
   "cell_type": "code",
   "execution_count": 14,
   "metadata": {
    "colab": {
     "base_uri": "https://localhost:8080/"
    },
    "executionInfo": {
     "elapsed": 512538,
     "status": "ok",
     "timestamp": 1640170167280,
     "user": {
      "displayName": "Juanjo herrera aranda",
      "photoUrl": "https://lh3.googleusercontent.com/a-/AOh14Ggi-1pJHDlySIFOzF9e-wXwl8SXgE7TF1tP5H8N=s64",
      "userId": "01584101861937288856"
     },
     "user_tz": -60
    },
    "id": "4k8hN-xjDR1J",
    "outputId": "88c6a8f1-2776-4817-d82b-bc139289102f"
   },
   "outputs": [
    {
     "name": "stdout",
     "output_type": "stream",
     "text": [
      "Loss:  0.5168000161647797\n",
      "Accuracy:  1.6215078592300416\n"
     ]
    }
   ],
   "source": [
    "# Version 1\n",
    "model2 = BaseNet_v2()\n",
    "score = cross_val(model2,batch_size,epochs,v_xy_train_test,show=False,verbose=0)\n",
    "print(\"Loss: \", score[0])\n",
    "print(\"Accuracy: \", score[1])"
   ]
  },
  {
   "cell_type": "code",
   "execution_count": 15,
   "metadata": {
    "colab": {
     "base_uri": "https://localhost:8080/"
    },
    "executionInfo": {
     "elapsed": 1879167,
     "status": "ok",
     "timestamp": 1640172046436,
     "user": {
      "displayName": "Juanjo herrera aranda",
      "photoUrl": "https://lh3.googleusercontent.com/a-/AOh14Ggi-1pJHDlySIFOzF9e-wXwl8SXgE7TF1tP5H8N=s64",
      "userId": "01584101861937288856"
     },
     "user_tz": -60
    },
    "id": "05Jd1f-kIS3s",
    "outputId": "be14d81f-5eae-4776-eace-a9eb1b60d398"
   },
   "outputs": [
    {
     "name": "stdout",
     "output_type": "stream",
     "text": [
      "Loss:  0.5417599976062775\n",
      "Accuracy:  1.553694748878479\n"
     ]
    }
   ],
   "source": [
    "# Version 2\n",
    "model2_2 = BaseNet_v2_2()\n",
    "score = cross_val(model2_2,batch_size,epochs,v_xy_train_test,show=False,verbose=0)\n",
    "print(\"Loss: \", score[0])\n",
    "print(\"Accuracy: \", score[1])"
   ]
  },
  {
   "cell_type": "markdown",
   "metadata": {
    "id": "Bo1kAFoNG1_H"
   },
   "source": [
    "Entrenamos la versión primera con todos los datos de entrenamiento y evaluamos con los datos de test para ver ver la capacidad de generalización que tiene el modelo. "
   ]
  },
  {
   "cell_type": "code",
   "execution_count": 21,
   "metadata": {
    "colab": {
     "base_uri": "https://localhost:8080/",
     "height": 1000
    },
    "executionInfo": {
     "elapsed": 133773,
     "status": "ok",
     "timestamp": 1640174165877,
     "user": {
      "displayName": "Juanjo herrera aranda",
      "photoUrl": "https://lh3.googleusercontent.com/a-/AOh14Ggi-1pJHDlySIFOzF9e-wXwl8SXgE7TF1tP5H8N=s64",
      "userId": "01584101861937288856"
     },
     "user_tz": -60
    },
    "id": "VXXklKIpgnsn",
    "outputId": "8efe36aa-119a-463c-b743-83da16932fe4"
   },
   "outputs": [
    {
     "name": "stdout",
     "output_type": "stream",
     "text": [
      "Epoch 1/30\n",
      "158/158 [==============================] - 12s 60ms/step - loss: 3.3163 - accuracy: 0.2361 - val_loss: 2.3810 - val_accuracy: 0.3194\n",
      "Epoch 2/30\n",
      "158/158 [==============================] - 9s 59ms/step - loss: 2.1265 - accuracy: 0.3875 - val_loss: 2.1382 - val_accuracy: 0.3819\n",
      "Epoch 3/30\n",
      "158/158 [==============================] - 9s 59ms/step - loss: 1.8103 - accuracy: 0.4676 - val_loss: 1.6466 - val_accuracy: 0.4583\n",
      "Epoch 4/30\n",
      "158/158 [==============================] - 9s 58ms/step - loss: 1.5910 - accuracy: 0.5229 - val_loss: 1.6891 - val_accuracy: 0.5069\n",
      "Epoch 5/30\n",
      "158/158 [==============================] - 9s 59ms/step - loss: 1.4309 - accuracy: 0.5683 - val_loss: 1.8135 - val_accuracy: 0.5278\n",
      "Epoch 6/30\n",
      "158/158 [==============================] - 9s 59ms/step - loss: 1.2883 - accuracy: 0.6091 - val_loss: 1.5795 - val_accuracy: 0.5069\n",
      "Epoch 7/30\n",
      "158/158 [==============================] - 9s 59ms/step - loss: 1.2068 - accuracy: 0.6306 - val_loss: 1.4391 - val_accuracy: 0.5903\n",
      "Epoch 8/30\n",
      "158/158 [==============================] - 9s 58ms/step - loss: 1.1122 - accuracy: 0.6514 - val_loss: 1.2947 - val_accuracy: 0.6181\n",
      "Epoch 9/30\n",
      "158/158 [==============================] - 9s 59ms/step - loss: 1.0413 - accuracy: 0.6771 - val_loss: 1.2049 - val_accuracy: 0.6944\n",
      "Epoch 10/30\n",
      "158/158 [==============================] - 9s 58ms/step - loss: 0.9817 - accuracy: 0.6939 - val_loss: 1.6912 - val_accuracy: 0.5486\n",
      "Epoch 11/30\n",
      "158/158 [==============================] - 9s 59ms/step - loss: 0.9141 - accuracy: 0.7133 - val_loss: 1.3703 - val_accuracy: 0.5764\n",
      "Epoch 12/30\n",
      "158/158 [==============================] - 9s 58ms/step - loss: 0.8657 - accuracy: 0.7310 - val_loss: 1.4265 - val_accuracy: 0.5764\n",
      "Epoch 13/30\n",
      "158/158 [==============================] - 11s 68ms/step - loss: 0.8216 - accuracy: 0.7407 - val_loss: 1.4478 - val_accuracy: 0.5694\n"
     ]
    },
    {
     "data": {
      "image/png": "[encoded data removed]",
      "text/plain": [
       "<Figure size 432x288 with 1 Axes>"
      ]
     },
     "metadata": {
      "needs_background": "light"
     },
     "output_type": "display_data"
    },
    {
     "data": {
      "image/png": "[encoded data removed]",
      "text/plain": [
       "<Figure size 432x288 with 1 Axes>"
      ]
     },
     "metadata": {
      "needs_background": "light"
     },
     "output_type": "display_data"
    },
    {
     "name": "stdout",
     "output_type": "stream",
     "text": [
      "313/313 [==============================] - 2s 7ms/step - loss: 1.2104 - accuracy: 0.6236\n",
      "Loss:  0.6236000061035156\n",
      "Accuracy:  1.2103599309921265\n"
     ]
    }
   ],
   "source": [
    "opt = tf.keras.optimizers.Nadam()\n",
    "final_model = BaseNet_v2()\n",
    "score = fit_evaluate( final_model,opt,batch_size,epochs,v_xy_train_test ,show=True,verbose=1)\n",
    "print(\"Loss: \", score[1])\n",
    "print(\"Accuracy: \", score[0])\n"
   ]
  },
  {
   "cell_type": "code",
   "execution_count": null,
   "metadata": {
    "id": "9LWqHpAzgnua"
   },
   "outputs": [],
   "source": []
  },
  {
   "cell_type": "markdown",
   "metadata": {
    "id": "QNRdoUi0XeB3"
   },
   "source": [
    "## Version 3"
   ]
  },
  {
   "cell_type": "markdown",
   "metadata": {
    "id": "d8SCKWqAOe0j"
   },
   "source": [
    "Creamos los modelos"
   ]
  },
  {
   "cell_type": "code",
   "execution_count": 19,
   "metadata": {
    "executionInfo": {
     "elapsed": 372,
     "status": "ok",
     "timestamp": 1640173544559,
     "user": {
      "displayName": "Juanjo herrera aranda",
      "photoUrl": "https://lh3.googleusercontent.com/a-/AOh14Ggi-1pJHDlySIFOzF9e-wXwl8SXgE7TF1tP5H8N=s64",
      "userId": "01584101861937288856"
     },
     "user_tz": -60
    },
    "id": "y-LKZBDwXeWQ"
   },
   "outputs": [],
   "source": [
    "def BaseNet_v3():\n",
    "\n",
    "  input = keras.Input(shape=input_shape, name = 'Input')\n",
    "  \n",
    "  # Secuencial \n",
    "  x = Conv2D(filters=64,kernel_size=(3,3),padding=\"same\",input_shape=input_shape, name='Conv2D_1')(input)\n",
    "  x = BatchNormalization(name='BatchNorm_1')(x)\n",
    "  x = Activation(keras.activations.relu, name='Relu_1')(x)\n",
    "  \n",
    "  x = Conv2D(filters=128,kernel_size=(3,3),padding=\"same\", name='Conv2D_2')(x)\n",
    "  x = BatchNormalization(name='BatchNorm_2')(x)\n",
    "  x = Activation(keras.activations.relu, name='Relu_2')(x)\n",
    "  \n",
    "  x = MaxPooling2D(pool_size=(2,2), name='MaxPooling_1')(x) \n",
    "  \n",
    "  # Primer boque de residuo \n",
    "  res1 = Conv2D(filters=128,kernel_size=(3,3),padding=\"same\", name='Conv2D_3')(x)\n",
    "  res1 = BatchNormalization()(res1)\n",
    "  res1 = Activation(keras.activations.relu, name='Relu_3')(res1)\n",
    "  # Fin primer bloque \n",
    "\n",
    "  suma1 = add([x, res1], name='Suma_bloque_1')\n",
    "\n",
    "  # Segundo bloque de residuo\n",
    "  res2 = Conv2D(filters=128,kernel_size=(3,3),padding=\"same\", name='Conv2D_4')(suma1)\n",
    "  res2 = BatchNormalization()(res2)\n",
    "  res2 = Activation(keras.activations.relu, name='Relu_4')(res2)\n",
    "\n",
    "  # Fin segundo bloque  \n",
    "\n",
    "  suma2 = add([suma1, res2], name='Suma_bloque_2')\n",
    "\n",
    "  x = MaxPooling2D(pool_size=(2,2),name='MaxPooling_2')(suma2)\n",
    "\n",
    "  x = Conv2D(filters=256,kernel_size=(3,3), name='Conv2D_5')(x)\n",
    "  x = BatchNormalization()(x)\n",
    "  x = Activation(keras.activations.relu, name='Relu_5')(x)\n",
    "\n",
    "  x = MaxPooling2D(pool_size=(2,2),name='MaxPooling_3')(x)\n",
    "\n",
    "  x = (Flatten(name='Flatten'))(x)\n",
    "  x = (Dropout(0.4, name='Dropout_1'))(x)\n",
    "  output = (Dense(units=25,activation='softmax',name='Classifier'))(x)\n",
    "  \n",
    "  model = keras.Model(input, output, name=\"Version3\")\n",
    "\n",
    "  return model\n",
    "\n",
    "#############################################################################################\n",
    "#############################################################################################\n",
    "#############################################################################################\n",
    "\n",
    "def BaseNet_v3_2():\n",
    "\n",
    "  input = keras.Input(shape=input_shape, name = 'Input')\n",
    "  \n",
    "  # Secuencial \n",
    "  x = Conv2D(filters=64,kernel_size=(3,3),padding=\"same\",input_shape=input_shape, name='Conv2D_1')(input)\n",
    "  x = BatchNormalization(name='BatchNorm_1')(x)\n",
    "  x = Activation(keras.activations.relu, name='Relu_1')(x)\n",
    "  \n",
    "  x = Conv2D(filters=128,kernel_size=(3,3),padding=\"same\", name='Conv2D_2')(x)\n",
    "  x = BatchNormalization(name='BatchNorm_2')(x)\n",
    "  x = Activation(keras.activations.relu, name='Relu_2')(x)\n",
    "  \n",
    "  x = MaxPooling2D(pool_size=(2,2), name='MaxPooling_1')(x) \n",
    "  \n",
    "  # Primer boque de residuo \n",
    "  res1 = Conv2D(filters=128,kernel_size=(3,3),padding=\"same\", name='Conv2D_3')(x)\n",
    "  res1 = BatchNormalization()(res1)\n",
    "  res1 = Activation(keras.activations.relu, name='Relu_3')(res1)\n",
    "\n",
    "  res1 = Conv2D(filters=128,kernel_size=(3,3),padding=\"same\", name='Conv2D_31')(res1)\n",
    "  res1 = BatchNormalization()(res1)\n",
    "\n",
    "  # Fin primer bloque residual  \n",
    "\n",
    "  suma1 = add([x, res1], name='Suma_bloque_1')\n",
    "  suma1 = Activation(keras.activations.relu, name='Relu_31')(suma1)\n",
    "\n",
    "  # Segundo bloque de residuo\n",
    "  res2 = Conv2D(filters=128,kernel_size=(3,3),padding=\"same\", name='Conv2D_4')(suma1)\n",
    "  res2 = BatchNormalization()(res2)\n",
    "  res2 = Activation(keras.activations.relu, name='Relu_4')(res2) \n",
    "\n",
    "  res2 = Conv2D(filters=128,kernel_size=(3,3),padding=\"same\", name='Conv2D_41')(res2)\n",
    "  res2 = BatchNormalization()(res2)\n",
    "  # Fin segundo bloque residual\n",
    "\n",
    "  suma2 = add([suma1, res2], name='Suma_bloque_2')\n",
    "  suma2 = Activation(keras.activations.relu, name='Relu_41')(suma2) \n",
    "\n",
    "  x = MaxPooling2D(pool_size=(2,2),name='MaxPooling_2')(suma2)\n",
    "\n",
    "  x = Conv2D(filters=128,kernel_size=(3,3), name='Conv2D_5')(x)\n",
    "  x = BatchNormalization()(x)\n",
    "  x = Activation(keras.activations.relu, name='Relu_5')(x)\n",
    "\n",
    "  x = MaxPooling2D(pool_size=(2,2),name='MaxPooling_3')(x)\n",
    "\n",
    "  x = (Flatten(name='Flatten'))(x)\n",
    "  x = (Dropout(0.4, name='Dropout_1'))(x)\n",
    "  output = (Dense(units=25,activation='softmax',name='Classifier'))(x)\n",
    "  \n",
    "  model = keras.Model(input, output, name=\"Version3\")\n",
    "\n",
    "  return model"
   ]
  },
  {
   "cell_type": "markdown",
   "metadata": {
    "id": "zK4CNjYAOxIv"
   },
   "source": [
    "Ejecutamos los modelos"
   ]
  },
  {
   "cell_type": "code",
   "execution_count": null,
   "metadata": {
    "colab": {
     "base_uri": "https://localhost:8080/"
    },
    "executionInfo": {
     "elapsed": 765610,
     "status": "ok",
     "timestamp": 1640130858615,
     "user": {
      "displayName": "JUAN JOSE HERRERA ARANDA",
      "photoUrl": "https://lh3.googleusercontent.com/a-/AOh14GjfPu3f_R-PAYLKslCedSB4DG2s_VJDclJFs7Jt=s64",
      "userId": "00712266723243517574"
     },
     "user_tz": -60
    },
    "id": "M2qdkpOAXehF",
    "outputId": "87d798f1-fc0a-4198-f4bb-86fbc655e1b0"
   },
   "outputs": [
    {
     "name": "stdout",
     "output_type": "stream",
     "text": [
      "Epoch 1/30\n",
      "126/126 [==============================] - 11s 67ms/step - loss: 2.8008 - accuracy: 0.2504 - val_loss: 2.7016 - val_accuracy: 0.2333\n",
      "Epoch 2/30\n",
      "126/126 [==============================] - 8s 64ms/step - loss: 2.1975 - accuracy: 0.3757 - val_loss: 2.1761 - val_accuracy: 0.3583\n",
      "Epoch 3/30\n",
      "126/126 [==============================] - 8s 64ms/step - loss: 1.8700 - accuracy: 0.4559 - val_loss: 1.8040 - val_accuracy: 0.4250\n",
      "Epoch 4/30\n",
      "126/126 [==============================] - 8s 63ms/step - loss: 1.6665 - accuracy: 0.5065 - val_loss: 1.9211 - val_accuracy: 0.4583\n",
      "Epoch 5/30\n",
      "126/126 [==============================] - 8s 63ms/step - loss: 1.4990 - accuracy: 0.5427 - val_loss: 1.2874 - val_accuracy: 0.6083\n",
      "Epoch 6/30\n",
      "126/126 [==============================] - 8s 63ms/step - loss: 1.3724 - accuracy: 0.5846 - val_loss: 1.3697 - val_accuracy: 0.6167\n",
      "Epoch 7/30\n",
      "126/126 [==============================] - 8s 63ms/step - loss: 1.2673 - accuracy: 0.6190 - val_loss: 1.5738 - val_accuracy: 0.5417\n",
      "Epoch 8/30\n",
      "126/126 [==============================] - 8s 64ms/step - loss: 1.1916 - accuracy: 0.6294 - val_loss: 1.7698 - val_accuracy: 0.5000\n",
      "Epoch 9/30\n",
      "126/126 [==============================] - 8s 63ms/step - loss: 1.1180 - accuracy: 0.6518 - val_loss: 1.2543 - val_accuracy: 0.5917\n",
      "Epoch 10/30\n",
      "126/126 [==============================] - 8s 64ms/step - loss: 1.0617 - accuracy: 0.6742 - val_loss: 1.3885 - val_accuracy: 0.5917\n",
      "Epoch 11/30\n",
      "126/126 [==============================] - 8s 63ms/step - loss: 0.9930 - accuracy: 0.6920 - val_loss: 1.9141 - val_accuracy: 0.5083\n",
      "Epoch 12/30\n",
      "126/126 [==============================] - 8s 64ms/step - loss: 0.9200 - accuracy: 0.7096 - val_loss: 1.2819 - val_accuracy: 0.6083\n",
      "Epoch 13/30\n",
      "126/126 [==============================] - 8s 64ms/step - loss: 0.8806 - accuracy: 0.7275 - val_loss: 1.5826 - val_accuracy: 0.5500\n",
      "313/313 [==============================] - 2s 8ms/step - loss: 1.3620 - accuracy: 0.6136\n",
      "Epoch 1/30\n",
      "126/126 [==============================] - 8s 64ms/step - loss: 2.9022 - accuracy: 0.2256 - val_loss: 2.7297 - val_accuracy: 0.1917\n",
      "Epoch 2/30\n",
      "126/126 [==============================] - 8s 63ms/step - loss: 2.2087 - accuracy: 0.3682 - val_loss: 2.5577 - val_accuracy: 0.2917\n",
      "Epoch 3/30\n",
      "126/126 [==============================] - 8s 64ms/step - loss: 1.8947 - accuracy: 0.4483 - val_loss: 2.2094 - val_accuracy: 0.4083\n",
      "Epoch 4/30\n",
      "126/126 [==============================] - 8s 64ms/step - loss: 1.6636 - accuracy: 0.5025 - val_loss: 1.7308 - val_accuracy: 0.4667\n",
      "Epoch 5/30\n",
      "126/126 [==============================] - 8s 64ms/step - loss: 1.4920 - accuracy: 0.5526 - val_loss: 1.6642 - val_accuracy: 0.4833\n",
      "Epoch 6/30\n",
      "126/126 [==============================] - 8s 63ms/step - loss: 1.3581 - accuracy: 0.5827 - val_loss: 1.3920 - val_accuracy: 0.6083\n",
      "Epoch 7/30\n",
      "126/126 [==============================] - 8s 63ms/step - loss: 1.3095 - accuracy: 0.6062 - val_loss: 1.8223 - val_accuracy: 0.4917\n",
      "Epoch 8/30\n",
      "126/126 [==============================] - 8s 63ms/step - loss: 1.1969 - accuracy: 0.6315 - val_loss: 1.4274 - val_accuracy: 0.5917\n",
      "Epoch 9/30\n",
      "126/126 [==============================] - 8s 63ms/step - loss: 1.1320 - accuracy: 0.6507 - val_loss: 1.8243 - val_accuracy: 0.5917\n",
      "Epoch 10/30\n",
      "126/126 [==============================] - 8s 64ms/step - loss: 1.0535 - accuracy: 0.6719 - val_loss: 1.3694 - val_accuracy: 0.6083\n",
      "Epoch 11/30\n",
      "126/126 [==============================] - 8s 64ms/step - loss: 1.0091 - accuracy: 0.6835 - val_loss: 1.6026 - val_accuracy: 0.6000\n",
      "Epoch 12/30\n",
      "126/126 [==============================] - 8s 64ms/step - loss: 0.9680 - accuracy: 0.6943 - val_loss: 1.5131 - val_accuracy: 0.5333\n",
      "Epoch 13/30\n",
      "126/126 [==============================] - 8s 64ms/step - loss: 0.9074 - accuracy: 0.7135 - val_loss: 1.4914 - val_accuracy: 0.6167\n",
      "Epoch 14/30\n",
      "126/126 [==============================] - 8s 64ms/step - loss: 0.8417 - accuracy: 0.7345 - val_loss: 1.3230 - val_accuracy: 0.5833\n",
      "Epoch 15/30\n",
      "126/126 [==============================] - 8s 64ms/step - loss: 0.7899 - accuracy: 0.7473 - val_loss: 1.5425 - val_accuracy: 0.6500\n",
      "Epoch 16/30\n",
      "126/126 [==============================] - 8s 64ms/step - loss: 0.7683 - accuracy: 0.7573 - val_loss: 1.0367 - val_accuracy: 0.6917\n",
      "Epoch 17/30\n",
      "126/126 [==============================] - 8s 64ms/step - loss: 0.7421 - accuracy: 0.7632 - val_loss: 1.0590 - val_accuracy: 0.6750\n",
      "Epoch 18/30\n",
      "126/126 [==============================] - 8s 63ms/step - loss: 0.7054 - accuracy: 0.7684 - val_loss: 1.6785 - val_accuracy: 0.5250\n",
      "Epoch 19/30\n",
      "126/126 [==============================] - 8s 64ms/step - loss: 0.6704 - accuracy: 0.7811 - val_loss: 1.5754 - val_accuracy: 0.6083\n",
      "Epoch 20/30\n",
      "126/126 [==============================] - 8s 64ms/step - loss: 0.6348 - accuracy: 0.7918 - val_loss: 1.4609 - val_accuracy: 0.6167\n",
      "313/313 [==============================] - 3s 8ms/step - loss: 1.3649 - accuracy: 0.6192\n",
      "Epoch 1/30\n",
      "126/126 [==============================] - 8s 66ms/step - loss: 2.9039 - accuracy: 0.2390 - val_loss: 2.4674 - val_accuracy: 0.2583\n",
      "Epoch 2/30\n",
      "126/126 [==============================] - 8s 64ms/step - loss: 2.2127 - accuracy: 0.3739 - val_loss: 2.4144 - val_accuracy: 0.3000\n",
      "Epoch 3/30\n",
      "126/126 [==============================] - 8s 64ms/step - loss: 1.8731 - accuracy: 0.4583 - val_loss: 1.7257 - val_accuracy: 0.4917\n",
      "Epoch 4/30\n",
      "126/126 [==============================] - 8s 64ms/step - loss: 1.6553 - accuracy: 0.5063 - val_loss: 1.5849 - val_accuracy: 0.5000\n",
      "Epoch 5/30\n",
      "126/126 [==============================] - 8s 64ms/step - loss: 1.5042 - accuracy: 0.5581 - val_loss: 1.7804 - val_accuracy: 0.5333\n",
      "Epoch 6/30\n",
      "126/126 [==============================] - 8s 64ms/step - loss: 1.3765 - accuracy: 0.5880 - val_loss: 1.4698 - val_accuracy: 0.6167\n",
      "Epoch 7/30\n",
      "126/126 [==============================] - 8s 64ms/step - loss: 1.2804 - accuracy: 0.6050 - val_loss: 1.4084 - val_accuracy: 0.5750\n",
      "Epoch 8/30\n",
      "126/126 [==============================] - 8s 64ms/step - loss: 1.1896 - accuracy: 0.6383 - val_loss: 1.7478 - val_accuracy: 0.4750\n",
      "Epoch 9/30\n",
      "126/126 [==============================] - 8s 63ms/step - loss: 1.1132 - accuracy: 0.6562 - val_loss: 1.4259 - val_accuracy: 0.6000\n",
      "Epoch 10/30\n",
      "126/126 [==============================] - 8s 64ms/step - loss: 1.0527 - accuracy: 0.6720 - val_loss: 1.2952 - val_accuracy: 0.6417\n",
      "Epoch 11/30\n",
      "126/126 [==============================] - 8s 64ms/step - loss: 0.9975 - accuracy: 0.6858 - val_loss: 1.6581 - val_accuracy: 0.5750\n",
      "Epoch 12/30\n",
      "126/126 [==============================] - 8s 65ms/step - loss: 0.9328 - accuracy: 0.7131 - val_loss: 1.3173 - val_accuracy: 0.6167\n",
      "Epoch 13/30\n",
      "126/126 [==============================] - 8s 65ms/step - loss: 0.8768 - accuracy: 0.7231 - val_loss: 1.1186 - val_accuracy: 0.6417\n",
      "Epoch 14/30\n",
      "126/126 [==============================] - 8s 64ms/step - loss: 0.8336 - accuracy: 0.7354 - val_loss: 1.0841 - val_accuracy: 0.6333\n",
      "Epoch 15/30\n",
      "126/126 [==============================] - 8s 64ms/step - loss: 0.7908 - accuracy: 0.7509 - val_loss: 1.4185 - val_accuracy: 0.6167\n",
      "Epoch 16/30\n",
      "126/126 [==============================] - 8s 64ms/step - loss: 0.7573 - accuracy: 0.7596 - val_loss: 1.2378 - val_accuracy: 0.6333\n",
      "Epoch 17/30\n",
      "126/126 [==============================] - 8s 64ms/step - loss: 0.7111 - accuracy: 0.7662 - val_loss: 1.3845 - val_accuracy: 0.6083\n",
      "Epoch 18/30\n",
      "126/126 [==============================] - 8s 64ms/step - loss: 0.6793 - accuracy: 0.7831 - val_loss: 1.1730 - val_accuracy: 0.6333\n",
      "313/313 [==============================] - 2s 7ms/step - loss: 1.3801 - accuracy: 0.6200\n",
      "Epoch 1/30\n",
      "126/126 [==============================] - 8s 64ms/step - loss: 2.9173 - accuracy: 0.2316 - val_loss: 2.5512 - val_accuracy: 0.2167\n",
      "Epoch 2/30\n",
      "126/126 [==============================] - 8s 64ms/step - loss: 2.2064 - accuracy: 0.3764 - val_loss: 2.3323 - val_accuracy: 0.2833\n",
      "Epoch 3/30\n",
      "126/126 [==============================] - 8s 64ms/step - loss: 1.8769 - accuracy: 0.4506 - val_loss: 2.2649 - val_accuracy: 0.3333\n",
      "Epoch 4/30\n",
      "126/126 [==============================] - 8s 64ms/step - loss: 1.6720 - accuracy: 0.5095 - val_loss: 1.4450 - val_accuracy: 0.5167\n",
      "Epoch 5/30\n",
      "126/126 [==============================] - 8s 64ms/step - loss: 1.5171 - accuracy: 0.5427 - val_loss: 1.3346 - val_accuracy: 0.6083\n",
      "Epoch 6/30\n",
      "126/126 [==============================] - 8s 64ms/step - loss: 1.3676 - accuracy: 0.5911 - val_loss: 1.2081 - val_accuracy: 0.6917\n",
      "Epoch 7/30\n",
      "126/126 [==============================] - 8s 64ms/step - loss: 1.2731 - accuracy: 0.6090 - val_loss: 1.1803 - val_accuracy: 0.6250\n",
      "Epoch 8/30\n",
      "126/126 [==============================] - 8s 64ms/step - loss: 1.1934 - accuracy: 0.6294 - val_loss: 1.3857 - val_accuracy: 0.6167\n",
      "Epoch 9/30\n",
      "126/126 [==============================] - 8s 65ms/step - loss: 1.1202 - accuracy: 0.6544 - val_loss: 1.3440 - val_accuracy: 0.6167\n",
      "Epoch 10/30\n",
      "126/126 [==============================] - 8s 64ms/step - loss: 1.0557 - accuracy: 0.6704 - val_loss: 1.4598 - val_accuracy: 0.6417\n",
      "Epoch 11/30\n",
      "126/126 [==============================] - 8s 64ms/step - loss: 1.0094 - accuracy: 0.6799 - val_loss: 1.4549 - val_accuracy: 0.6167\n",
      "313/313 [==============================] - 2s 7ms/step - loss: 1.3901 - accuracy: 0.5896\n",
      "Epoch 1/30\n",
      "126/126 [==============================] - 8s 65ms/step - loss: 2.8367 - accuracy: 0.2422 - val_loss: 2.3131 - val_accuracy: 0.2750\n",
      "Epoch 2/30\n",
      "126/126 [==============================] - 8s 64ms/step - loss: 2.2121 - accuracy: 0.3757 - val_loss: 2.0847 - val_accuracy: 0.4000\n",
      "Epoch 3/30\n",
      "126/126 [==============================] - 8s 64ms/step - loss: 1.8701 - accuracy: 0.4551 - val_loss: 1.8721 - val_accuracy: 0.4083\n",
      "Epoch 4/30\n",
      "126/126 [==============================] - 8s 64ms/step - loss: 1.6645 - accuracy: 0.5168 - val_loss: 1.7135 - val_accuracy: 0.4833\n",
      "Epoch 5/30\n",
      "126/126 [==============================] - 8s 64ms/step - loss: 1.4985 - accuracy: 0.5460 - val_loss: 1.4776 - val_accuracy: 0.5250\n",
      "Epoch 6/30\n",
      "126/126 [==============================] - 8s 65ms/step - loss: 1.3879 - accuracy: 0.5796 - val_loss: 1.3556 - val_accuracy: 0.5667\n",
      "Epoch 7/30\n",
      "126/126 [==============================] - 8s 64ms/step - loss: 1.2643 - accuracy: 0.6111 - val_loss: 1.5644 - val_accuracy: 0.5417\n",
      "Epoch 8/30\n",
      "126/126 [==============================] - 8s 64ms/step - loss: 1.1893 - accuracy: 0.6320 - val_loss: 1.1895 - val_accuracy: 0.6417\n",
      "Epoch 9/30\n",
      "126/126 [==============================] - 8s 64ms/step - loss: 1.1211 - accuracy: 0.6568 - val_loss: 1.5588 - val_accuracy: 0.5583\n",
      "Epoch 10/30\n",
      "126/126 [==============================] - 8s 64ms/step - loss: 1.0404 - accuracy: 0.6769 - val_loss: 1.2199 - val_accuracy: 0.6000\n",
      "Epoch 11/30\n",
      "126/126 [==============================] - 8s 63ms/step - loss: 0.9946 - accuracy: 0.6853 - val_loss: 1.6338 - val_accuracy: 0.5417\n",
      "Epoch 12/30\n",
      "126/126 [==============================] - 8s 65ms/step - loss: 0.9479 - accuracy: 0.7046 - val_loss: 1.1378 - val_accuracy: 0.6833\n",
      "Epoch 13/30\n",
      "126/126 [==============================] - 8s 64ms/step - loss: 0.9039 - accuracy: 0.7174 - val_loss: 1.1267 - val_accuracy: 0.6500\n",
      "Epoch 14/30\n",
      "126/126 [==============================] - 8s 65ms/step - loss: 0.8516 - accuracy: 0.7377 - val_loss: 1.2215 - val_accuracy: 0.6667\n",
      "Epoch 15/30\n",
      "126/126 [==============================] - 8s 66ms/step - loss: 0.8037 - accuracy: 0.7405 - val_loss: 0.9373 - val_accuracy: 0.7083\n",
      "Epoch 16/30\n",
      "126/126 [==============================] - 8s 65ms/step - loss: 0.7518 - accuracy: 0.7604 - val_loss: 1.2932 - val_accuracy: 0.6000\n",
      "Epoch 17/30\n",
      "126/126 [==============================] - 8s 65ms/step - loss: 0.7380 - accuracy: 0.7697 - val_loss: 1.3215 - val_accuracy: 0.6083\n",
      "Epoch 18/30\n",
      "126/126 [==============================] - 8s 66ms/step - loss: 0.6927 - accuracy: 0.7773 - val_loss: 1.1198 - val_accuracy: 0.6500\n",
      "Epoch 19/30\n",
      "126/126 [==============================] - 8s 66ms/step - loss: 0.6657 - accuracy: 0.7878 - val_loss: 1.2045 - val_accuracy: 0.7000\n",
      "313/313 [==============================] - 2s 8ms/step - loss: 1.1236 - accuracy: 0.6708\n",
      "Loss:  1.3241237640380858\n",
      "Accuracy:  0.6226400017738343\n"
     ]
    }
   ],
   "source": [
    "# Versión 1\n",
    "model3 = BaseNet_v3()\n",
    "score = cross_val(model3,batch_size,epochs,v_xy_train_test,show=False,verbose=1)\n",
    "print(\"Loss: \", score[1])\n",
    "print(\"Accuracy: \", score[0])"
   ]
  },
  {
   "cell_type": "code",
   "execution_count": null,
   "metadata": {
    "colab": {
     "base_uri": "https://localhost:8080/"
    },
    "executionInfo": {
     "elapsed": 689771,
     "status": "ok",
     "timestamp": 1640129590596,
     "user": {
      "displayName": "JUAN JOSE HERRERA ARANDA",
      "photoUrl": "https://lh3.googleusercontent.com/a-/AOh14GjfPu3f_R-PAYLKslCedSB4DG2s_VJDclJFs7Jt=s64",
      "userId": "00712266723243517574"
     },
     "user_tz": -60
    },
    "id": "YUGWVucYDSBI",
    "outputId": "87236eb8-aefa-4fe5-d708-15beb4dcf442"
   },
   "outputs": [
    {
     "name": "stdout",
     "output_type": "stream",
     "text": [
      "Epoch 1/30\n",
      "126/126 [==============================] - 13s 75ms/step - loss: 2.8598 - accuracy: 0.2282 - val_loss: 2.7150 - val_accuracy: 0.2417\n",
      "Epoch 2/30\n",
      "126/126 [==============================] - 9s 69ms/step - loss: 2.2595 - accuracy: 0.3535 - val_loss: 2.0780 - val_accuracy: 0.3750\n",
      "Epoch 3/30\n",
      "126/126 [==============================] - 9s 70ms/step - loss: 1.9806 - accuracy: 0.4170 - val_loss: 2.2721 - val_accuracy: 0.3833\n",
      "Epoch 4/30\n",
      "126/126 [==============================] - 9s 70ms/step - loss: 1.7490 - accuracy: 0.4752 - val_loss: 1.9356 - val_accuracy: 0.4333\n",
      "Epoch 5/30\n",
      "126/126 [==============================] - 9s 70ms/step - loss: 1.5792 - accuracy: 0.5196 - val_loss: 1.5784 - val_accuracy: 0.5500\n",
      "Epoch 6/30\n",
      "126/126 [==============================] - 9s 68ms/step - loss: 1.4456 - accuracy: 0.5635 - val_loss: 1.6202 - val_accuracy: 0.5417\n",
      "Epoch 7/30\n",
      "126/126 [==============================] - 9s 68ms/step - loss: 1.3211 - accuracy: 0.5932 - val_loss: 1.5681 - val_accuracy: 0.5333\n",
      "Epoch 8/30\n",
      "126/126 [==============================] - 9s 69ms/step - loss: 1.2332 - accuracy: 0.6140 - val_loss: 1.1143 - val_accuracy: 0.6917\n",
      "Epoch 9/30\n",
      "126/126 [==============================] - 9s 69ms/step - loss: 1.1659 - accuracy: 0.6392 - val_loss: 1.3970 - val_accuracy: 0.5500\n",
      "Epoch 10/30\n",
      "126/126 [==============================] - 9s 69ms/step - loss: 1.0879 - accuracy: 0.6579 - val_loss: 1.2093 - val_accuracy: 0.6333\n",
      "Epoch 11/30\n",
      "126/126 [==============================] - 9s 69ms/step - loss: 1.0076 - accuracy: 0.6758 - val_loss: 1.0726 - val_accuracy: 0.6750\n",
      "Epoch 12/30\n",
      "126/126 [==============================] - 9s 69ms/step - loss: 0.9832 - accuracy: 0.6919 - val_loss: 1.1899 - val_accuracy: 0.6583\n",
      "Epoch 13/30\n",
      "126/126 [==============================] - 9s 69ms/step - loss: 0.9364 - accuracy: 0.7048 - val_loss: 1.1508 - val_accuracy: 0.6583\n",
      "Epoch 14/30\n",
      "126/126 [==============================] - 9s 69ms/step - loss: 0.8775 - accuracy: 0.7227 - val_loss: 0.9358 - val_accuracy: 0.6333\n",
      "Epoch 15/30\n",
      "126/126 [==============================] - 10s 81ms/step - loss: 0.8475 - accuracy: 0.7282 - val_loss: 1.2184 - val_accuracy: 0.6500\n",
      "Epoch 16/30\n",
      "126/126 [==============================] - 9s 69ms/step - loss: 0.7974 - accuracy: 0.7402 - val_loss: 1.2574 - val_accuracy: 0.6000\n",
      "Epoch 17/30\n",
      "126/126 [==============================] - 9s 69ms/step - loss: 0.7797 - accuracy: 0.7490 - val_loss: 1.1401 - val_accuracy: 0.6500\n",
      "Epoch 18/30\n",
      "126/126 [==============================] - 9s 69ms/step - loss: 0.7470 - accuracy: 0.7553 - val_loss: 1.1268 - val_accuracy: 0.6667\n",
      "313/313 [==============================] - 3s 9ms/step - loss: 1.0408 - accuracy: 0.6832\n",
      "Epoch 1/30\n",
      "126/126 [==============================] - 9s 69ms/step - loss: 2.8404 - accuracy: 0.2287 - val_loss: 2.6053 - val_accuracy: 0.2667\n",
      "Epoch 2/30\n",
      "126/126 [==============================] - 9s 69ms/step - loss: 2.2282 - accuracy: 0.3509 - val_loss: 2.3455 - val_accuracy: 0.3667\n",
      "Epoch 3/30\n",
      "126/126 [==============================] - 9s 69ms/step - loss: 1.9571 - accuracy: 0.4232 - val_loss: 1.7642 - val_accuracy: 0.4417\n",
      "Epoch 4/30\n",
      "126/126 [==============================] - 9s 69ms/step - loss: 1.7471 - accuracy: 0.4815 - val_loss: 1.6907 - val_accuracy: 0.5000\n",
      "Epoch 5/30\n",
      "126/126 [==============================] - 9s 69ms/step - loss: 1.5769 - accuracy: 0.5250 - val_loss: 1.4850 - val_accuracy: 0.5667\n",
      "Epoch 6/30\n",
      "126/126 [==============================] - 9s 69ms/step - loss: 1.4639 - accuracy: 0.5529 - val_loss: 1.4045 - val_accuracy: 0.6167\n",
      "Epoch 7/30\n",
      "126/126 [==============================] - 9s 69ms/step - loss: 1.3427 - accuracy: 0.5912 - val_loss: 1.2873 - val_accuracy: 0.6250\n",
      "Epoch 8/30\n",
      "126/126 [==============================] - 9s 69ms/step - loss: 1.2807 - accuracy: 0.6030 - val_loss: 1.5599 - val_accuracy: 0.5583\n",
      "Epoch 9/30\n",
      "126/126 [==============================] - 9s 69ms/step - loss: 1.1981 - accuracy: 0.6330 - val_loss: 1.2645 - val_accuracy: 0.5833\n",
      "Epoch 10/30\n",
      "126/126 [==============================] - 9s 69ms/step - loss: 1.0927 - accuracy: 0.6577 - val_loss: 1.2859 - val_accuracy: 0.5750\n",
      "Epoch 11/30\n",
      "126/126 [==============================] - 9s 69ms/step - loss: 1.0612 - accuracy: 0.6665 - val_loss: 1.0760 - val_accuracy: 0.6083\n",
      "Epoch 12/30\n",
      "126/126 [==============================] - 9s 69ms/step - loss: 0.9933 - accuracy: 0.6874 - val_loss: 1.6122 - val_accuracy: 0.5000\n",
      "Epoch 13/30\n",
      "126/126 [==============================] - 9s 69ms/step - loss: 0.9559 - accuracy: 0.6916 - val_loss: 0.9765 - val_accuracy: 0.6583\n",
      "Epoch 14/30\n",
      "126/126 [==============================] - 9s 69ms/step - loss: 0.9260 - accuracy: 0.7041 - val_loss: 1.2266 - val_accuracy: 0.6167\n",
      "Epoch 15/30\n",
      "126/126 [==============================] - 9s 69ms/step - loss: 0.8853 - accuracy: 0.7175 - val_loss: 1.2806 - val_accuracy: 0.6083\n",
      "Epoch 16/30\n",
      "126/126 [==============================] - 9s 69ms/step - loss: 0.8169 - accuracy: 0.7412 - val_loss: 1.1230 - val_accuracy: 0.6667\n",
      "Epoch 17/30\n",
      "126/126 [==============================] - 9s 70ms/step - loss: 0.7954 - accuracy: 0.7447 - val_loss: 1.1775 - val_accuracy: 0.6417\n",
      "313/313 [==============================] - 3s 9ms/step - loss: 1.2310 - accuracy: 0.6340\n",
      "Epoch 1/30\n",
      "126/126 [==============================] - 9s 70ms/step - loss: 2.8185 - accuracy: 0.2261 - val_loss: 2.3715 - val_accuracy: 0.3000\n",
      "Epoch 2/30\n",
      "126/126 [==============================] - 9s 69ms/step - loss: 2.2237 - accuracy: 0.3554 - val_loss: 2.3122 - val_accuracy: 0.3250\n",
      "Epoch 3/30\n",
      "126/126 [==============================] - 9s 69ms/step - loss: 1.9449 - accuracy: 0.4283 - val_loss: 1.6945 - val_accuracy: 0.4833\n",
      "Epoch 4/30\n",
      "126/126 [==============================] - 9s 69ms/step - loss: 1.7163 - accuracy: 0.4937 - val_loss: 1.7889 - val_accuracy: 0.5250\n",
      "Epoch 5/30\n",
      "126/126 [==============================] - 9s 70ms/step - loss: 1.5391 - accuracy: 0.5346 - val_loss: 1.2695 - val_accuracy: 0.6000\n",
      "Epoch 6/30\n",
      "126/126 [==============================] - 9s 69ms/step - loss: 1.4162 - accuracy: 0.5742 - val_loss: 1.2858 - val_accuracy: 0.5833\n",
      "Epoch 7/30\n",
      "126/126 [==============================] - 9s 69ms/step - loss: 1.3101 - accuracy: 0.5954 - val_loss: 1.2735 - val_accuracy: 0.6167\n",
      "Epoch 8/30\n",
      "126/126 [==============================] - 9s 69ms/step - loss: 1.2335 - accuracy: 0.6198 - val_loss: 1.5442 - val_accuracy: 0.5667\n",
      "Epoch 9/30\n",
      "126/126 [==============================] - 9s 69ms/step - loss: 1.1555 - accuracy: 0.6461 - val_loss: 1.3295 - val_accuracy: 0.6250\n",
      "313/313 [==============================] - 3s 9ms/step - loss: 1.5055 - accuracy: 0.5520\n",
      "Epoch 1/30\n",
      "126/126 [==============================] - 9s 71ms/step - loss: 2.8610 - accuracy: 0.2222 - val_loss: 2.6814 - val_accuracy: 0.2417\n",
      "Epoch 2/30\n",
      "126/126 [==============================] - 9s 70ms/step - loss: 2.2426 - accuracy: 0.3554 - val_loss: 2.5372 - val_accuracy: 0.2333\n",
      "Epoch 3/30\n",
      "126/126 [==============================] - 9s 70ms/step - loss: 1.9469 - accuracy: 0.4276 - val_loss: 1.8524 - val_accuracy: 0.4500\n",
      "Epoch 4/30\n",
      "126/126 [==============================] - 9s 75ms/step - loss: 1.7374 - accuracy: 0.4824 - val_loss: 1.6186 - val_accuracy: 0.4917\n",
      "Epoch 5/30\n",
      "126/126 [==============================] - 9s 69ms/step - loss: 1.5772 - accuracy: 0.5257 - val_loss: 1.3805 - val_accuracy: 0.5167\n",
      "Epoch 6/30\n",
      "126/126 [==============================] - 9s 70ms/step - loss: 1.4375 - accuracy: 0.5669 - val_loss: 1.2574 - val_accuracy: 0.6417\n",
      "Epoch 7/30\n",
      "126/126 [==============================] - 9s 69ms/step - loss: 1.3530 - accuracy: 0.5880 - val_loss: 1.3360 - val_accuracy: 0.5833\n",
      "Epoch 8/30\n",
      "126/126 [==============================] - 9s 70ms/step - loss: 1.2419 - accuracy: 0.6159 - val_loss: 1.1320 - val_accuracy: 0.6250\n",
      "Epoch 9/30\n",
      "126/126 [==============================] - 9s 70ms/step - loss: 1.1867 - accuracy: 0.6361 - val_loss: 1.6216 - val_accuracy: 0.5917\n",
      "Epoch 10/30\n",
      "126/126 [==============================] - 9s 69ms/step - loss: 1.1013 - accuracy: 0.6544 - val_loss: 1.3566 - val_accuracy: 0.6417\n",
      "Epoch 11/30\n",
      "126/126 [==============================] - 9s 69ms/step - loss: 1.0339 - accuracy: 0.6737 - val_loss: 1.2436 - val_accuracy: 0.5667\n",
      "Epoch 12/30\n",
      "126/126 [==============================] - 9s 70ms/step - loss: 1.0061 - accuracy: 0.6889 - val_loss: 1.2171 - val_accuracy: 0.6583\n",
      "313/313 [==============================] - 3s 9ms/step - loss: 1.2403 - accuracy: 0.6160\n",
      "Epoch 1/30\n",
      "126/126 [==============================] - 9s 70ms/step - loss: 2.8436 - accuracy: 0.2219 - val_loss: 2.4486 - val_accuracy: 0.3250\n",
      "Epoch 2/30\n",
      "126/126 [==============================] - 9s 70ms/step - loss: 2.2556 - accuracy: 0.3520 - val_loss: 2.3063 - val_accuracy: 0.2917\n",
      "Epoch 3/30\n",
      "126/126 [==============================] - 9s 69ms/step - loss: 1.9654 - accuracy: 0.4277 - val_loss: 1.7865 - val_accuracy: 0.4750\n",
      "Epoch 4/30\n",
      "126/126 [==============================] - 9s 70ms/step - loss: 1.7532 - accuracy: 0.4710 - val_loss: 1.4703 - val_accuracy: 0.5667\n",
      "Epoch 5/30\n",
      "126/126 [==============================] - 9s 70ms/step - loss: 1.5899 - accuracy: 0.5213 - val_loss: 1.4638 - val_accuracy: 0.5333\n",
      "Epoch 6/30\n",
      "126/126 [==============================] - 9s 70ms/step - loss: 1.4656 - accuracy: 0.5510 - val_loss: 1.3609 - val_accuracy: 0.5833\n",
      "Epoch 7/30\n",
      "126/126 [==============================] - 9s 70ms/step - loss: 1.3557 - accuracy: 0.5856 - val_loss: 1.4902 - val_accuracy: 0.5417\n",
      "Epoch 8/30\n",
      "126/126 [==============================] - 9s 70ms/step - loss: 1.2575 - accuracy: 0.6145 - val_loss: 1.3003 - val_accuracy: 0.6333\n",
      "Epoch 9/30\n",
      "126/126 [==============================] - 9s 70ms/step - loss: 1.1633 - accuracy: 0.6382 - val_loss: 1.1622 - val_accuracy: 0.6333\n",
      "Epoch 10/30\n",
      "126/126 [==============================] - 9s 70ms/step - loss: 1.1216 - accuracy: 0.6521 - val_loss: 1.2828 - val_accuracy: 0.5833\n",
      "Epoch 11/30\n",
      "126/126 [==============================] - 9s 70ms/step - loss: 1.0480 - accuracy: 0.6735 - val_loss: 1.4537 - val_accuracy: 0.5333\n",
      "Epoch 12/30\n",
      "126/126 [==============================] - 9s 70ms/step - loss: 1.0022 - accuracy: 0.6878 - val_loss: 1.3415 - val_accuracy: 0.5750\n",
      "Epoch 13/30\n",
      "126/126 [==============================] - 9s 70ms/step - loss: 0.9545 - accuracy: 0.6952 - val_loss: 1.2391 - val_accuracy: 0.6583\n",
      "313/313 [==============================] - 3s 9ms/step - loss: 1.1565 - accuracy: 0.6496\n",
      "Loss:  0.6269600033760071\n",
      "Accuracy:  1.2348142862319946\n"
     ]
    }
   ],
   "source": [
    "# Versión 2\n",
    "model3_2 = BaseNet_v3_2()\n",
    "score = cross_val(model3_2,batch_size,epochs,v_xy_train_test,show=False,verbose=1)\n",
    "print(\"Loss: \", score[0])\n",
    "print(\"Accuracy: \", score[1])"
   ]
  },
  {
   "cell_type": "markdown",
   "metadata": {
    "id": "zrR5q_GVQcl5"
   },
   "source": [
    "Entrenamos la segunda versión con todos los datos de entrenamiento (dejando 10% para validación) y evaluamos en el conjunto de test para ver como generaliza este modelo. "
   ]
  },
  {
   "cell_type": "code",
   "execution_count": 22,
   "metadata": {
    "colab": {
     "base_uri": "https://localhost:8080/",
     "height": 1000
    },
    "executionInfo": {
     "elapsed": 245177,
     "status": "ok",
     "timestamp": 1640174411050,
     "user": {
      "displayName": "Juanjo herrera aranda",
      "photoUrl": "https://lh3.googleusercontent.com/a-/AOh14Ggi-1pJHDlySIFOzF9e-wXwl8SXgE7TF1tP5H8N=s64",
      "userId": "01584101861937288856"
     },
     "user_tz": -60
    },
    "id": "wJJd2K9IPLZE",
    "outputId": "e4c31a80-1406-4a69-9509-0d84f6ff8cb2"
   },
   "outputs": [
    {
     "name": "stdout",
     "output_type": "stream",
     "text": [
      "Epoch 1/30\n",
      "158/158 [==============================] - 13s 65ms/step - loss: 2.9666 - accuracy: 0.2223 - val_loss: 2.5173 - val_accuracy: 0.2847\n",
      "Epoch 2/30\n",
      "158/158 [==============================] - 10s 64ms/step - loss: 2.2038 - accuracy: 0.3637 - val_loss: 1.9541 - val_accuracy: 0.4514\n",
      "Epoch 3/30\n",
      "158/158 [==============================] - 10s 64ms/step - loss: 1.9676 - accuracy: 0.4197 - val_loss: 1.7160 - val_accuracy: 0.4792\n",
      "Epoch 4/30\n",
      "158/158 [==============================] - 10s 64ms/step - loss: 1.7911 - accuracy: 0.4690 - val_loss: 1.4978 - val_accuracy: 0.5556\n",
      "Epoch 5/30\n",
      "158/158 [==============================] - 11s 70ms/step - loss: 1.6048 - accuracy: 0.5153 - val_loss: 1.5787 - val_accuracy: 0.4861\n",
      "Epoch 6/30\n",
      "158/158 [==============================] - 10s 64ms/step - loss: 1.4696 - accuracy: 0.5547 - val_loss: 1.5720 - val_accuracy: 0.5694\n",
      "Epoch 7/30\n",
      "158/158 [==============================] - 10s 64ms/step - loss: 1.3719 - accuracy: 0.5807 - val_loss: 1.4133 - val_accuracy: 0.6181\n",
      "Epoch 8/30\n",
      "158/158 [==============================] - 10s 64ms/step - loss: 1.2628 - accuracy: 0.6123 - val_loss: 1.3167 - val_accuracy: 0.6389\n",
      "Epoch 9/30\n",
      "158/158 [==============================] - 10s 64ms/step - loss: 1.1809 - accuracy: 0.6372 - val_loss: 1.5666 - val_accuracy: 0.5764\n",
      "Epoch 10/30\n",
      "158/158 [==============================] - 10s 65ms/step - loss: 1.1280 - accuracy: 0.6508 - val_loss: 1.1489 - val_accuracy: 0.6389\n",
      "Epoch 11/30\n",
      "158/158 [==============================] - 10s 64ms/step - loss: 1.0676 - accuracy: 0.6703 - val_loss: 1.0168 - val_accuracy: 0.6736\n",
      "Epoch 12/30\n",
      "158/158 [==============================] - 10s 64ms/step - loss: 1.0203 - accuracy: 0.6817 - val_loss: 1.1592 - val_accuracy: 0.6875\n",
      "Epoch 13/30\n",
      "158/158 [==============================] - 10s 65ms/step - loss: 0.9513 - accuracy: 0.6987 - val_loss: 1.0137 - val_accuracy: 0.6528\n",
      "Epoch 14/30\n",
      "158/158 [==============================] - 10s 64ms/step - loss: 0.9251 - accuracy: 0.7080 - val_loss: 0.9210 - val_accuracy: 0.7292\n",
      "Epoch 15/30\n",
      "158/158 [==============================] - 10s 64ms/step - loss: 0.8652 - accuracy: 0.7279 - val_loss: 1.2512 - val_accuracy: 0.6042\n",
      "Epoch 16/30\n",
      "158/158 [==============================] - 10s 64ms/step - loss: 0.8283 - accuracy: 0.7377 - val_loss: 0.8975 - val_accuracy: 0.7153\n",
      "Epoch 17/30\n",
      "158/158 [==============================] - 10s 64ms/step - loss: 0.7998 - accuracy: 0.7474 - val_loss: 0.8476 - val_accuracy: 0.7778\n",
      "Epoch 18/30\n",
      "158/158 [==============================] - 10s 63ms/step - loss: 0.7697 - accuracy: 0.7557 - val_loss: 1.3597 - val_accuracy: 0.6319\n",
      "Epoch 19/30\n",
      "158/158 [==============================] - 10s 64ms/step - loss: 0.7452 - accuracy: 0.7594 - val_loss: 1.1063 - val_accuracy: 0.6736\n",
      "Epoch 20/30\n",
      "158/158 [==============================] - 10s 64ms/step - loss: 0.7168 - accuracy: 0.7735 - val_loss: 1.1594 - val_accuracy: 0.6528\n",
      "Epoch 21/30\n",
      "158/158 [==============================] - 10s 64ms/step - loss: 0.7024 - accuracy: 0.7702 - val_loss: 1.0076 - val_accuracy: 0.7083\n"
     ]
    },
    {
     "data": {
      "image/png": "[encoded data removed]",
      "text/plain": [
       "<Figure size 432x288 with 1 Axes>"
      ]
     },
     "metadata": {
      "needs_background": "light"
     },
     "output_type": "display_data"
    },
    {
     "data": {
      "image/png": "[encoded data removed]",
      "text/plain": [
       "<Figure size 432x288 with 1 Axes>"
      ]
     },
     "metadata": {
      "needs_background": "light"
     },
     "output_type": "display_data"
    },
    {
     "name": "stdout",
     "output_type": "stream",
     "text": [
      "313/313 [==============================] - 3s 9ms/step - loss: 0.9806 - accuracy: 0.7064\n",
      "Loss:  0.9805776476860046\n",
      "Accuracy:  0.7063999772071838\n"
     ]
    }
   ],
   "source": [
    "final_model_bonus = BaseNet_v3_2()\n",
    "score = fit_evaluate(final_model_bonus ,opt,batch_size,epochs,v_xy_train_test ,show=True,verbose=1)\n",
    "print(\"Loss: \", score[0])\n",
    "print(\"Accuracy: \", score[1])"
   ]
  }
 ],
 "metadata": {
  "accelerator": "GPU",
  "colab": {
   "collapsed_sections": [],
   "name": "Untitled0.ipynb",
   "provenance": [],
   "toc_visible": true
  },
  "kernelspec": {
   "display_name": "Python 3",
   "language": "python",
   "name": "python3"
  },
  "language_info": {
   "codemirror_mode": {
    "name": "ipython",
    "version": 3
   },
   "file_extension": ".py",
   "mimetype": "text/x-python",
   "name": "python",
   "nbconvert_exporter": "python",
   "pygments_lexer": "ipython3",
   "version": "3.8.8"
  }
 },
 "nbformat": 4,
 "nbformat_minor": 4
}
